{
 "cells": [
  {
   "cell_type": "code",
   "execution_count": 1,
   "metadata": {
    "colab": {
     "base_uri": "https://localhost:8080/",
     "height": 71
    },
    "colab_type": "code",
    "id": "unwSNZgF6Xlu",
    "outputId": "4044f854-8a28-46e3-e755-ac5fcb1ca6a8"
   },
   "outputs": [
    {
     "data": {
      "text/html": [
       "        <script type=\"text/javascript\">\n",
       "        window.PlotlyConfig = {MathJaxConfig: 'local'};\n",
       "        if (window.MathJax) {MathJax.Hub.Config({SVG: {font: \"STIX-Web\"}});}\n",
       "        if (typeof require !== 'undefined') {\n",
       "        require.undef(\"plotly\");\n",
       "        requirejs.config({\n",
       "            paths: {\n",
       "                'plotly': ['https://cdn.plot.ly/plotly-latest.min']\n",
       "            }\n",
       "        });\n",
       "        require(['plotly'], function(Plotly) {\n",
       "            window._Plotly = Plotly;\n",
       "        });\n",
       "        }\n",
       "        </script>\n",
       "        "
      ]
     },
     "metadata": {},
     "output_type": "display_data"
    }
   ],
   "source": [
    "import pandas as pd # package for high-performance, easy-to-use data structures and data analysis\n",
    "import numpy as np # fundamental package for scientific computing with Python\n",
    "import matplotlib\n",
    "import matplotlib.pyplot as plt # for plotting\n",
    "\n",
    "import seaborn as sns # for making plots with seaborn\n",
    "color = sns.color_palette()\n",
    "#from plotly.offline import init_notebook_mode, iplot\n",
    "#init_notebook_mode(connected=True)\n",
    "import plotly.graph_objs as go\n",
    "import plotly.offline as offline\n",
    "\n",
    "from plotly.offline import iplot\n",
    "from plotly.graph_objs import Scatter\n",
    "\n",
    "# import cufflinks and offline mode\n",
    "import cufflinks as cf\n",
    "cf.go_offline()\n",
    "\n",
    "%matplotlib inline"
   ]
  },
  {
   "cell_type": "code",
   "execution_count": 2,
   "metadata": {
    "colab": {
     "base_uri": "https://localhost:8080/",
     "height": 51
    },
    "colab_type": "code",
    "id": "SAvt1gDl6Xl1",
    "outputId": "7624efb9-58f1-4908-d9fb-3126c204dc9e"
   },
   "outputs": [
    {
     "name": "stdout",
     "output_type": "stream",
     "text": [
      "Training Features shape:  (307507, 75)\n",
      "Testing Features shape:  (48744, 74)\n"
     ]
    }
   ],
   "source": [
    "#https://www.kaggle.com/ogrellier/good-fun-with-ligthgbm\n",
    "app_train = pd.read_csv('app_train.csv')\n",
    "app_test = pd.read_csv('app_test.csv')\n",
    "\n",
    "app_train.drop(app_train[app_train['CODE_GENDER'] == 'XNA'].index, axis = 0, inplace=True )\n",
    "\n",
    "# We store the TARGET column in the variable train_labels\n",
    "train_labels = app_train['TARGET']\n",
    "\n",
    "#We align the training and test data, We keep that the columns present in the two dataframes\n",
    "app_train, app_test = app_train.align(app_test, join = 'inner', axis = 1)\n",
    "\n",
    "# Add the target back in\n",
    "app_train['TARGET'] = train_labels\n",
    "\n",
    "print('Training Features shape: ', app_train.shape)\n",
    "print('Testing Features shape: ', app_test.shape)"
   ]
  },
  {
   "cell_type": "code",
   "execution_count": 3,
   "metadata": {
    "colab": {},
    "colab_type": "code",
    "id": "LqffoGFA6Xl6"
   },
   "outputs": [],
   "source": [
    "data = pd.read_csv('data_final.csv')"
   ]
  },
  {
   "cell_type": "code",
   "execution_count": 43,
   "metadata": {
    "colab": {},
    "colab_type": "code",
    "id": "ZWRhltsC6Xl-"
   },
   "outputs": [],
   "source": [
    "#### prepare final Train X and Test X dataframes \n",
    "ignore_features = ['SK_ID_CURR', 'is_train', 'is_test']\n",
    "relevant_features = [col for col in data.columns if col not in ignore_features]\n",
    "trainX = data[data['is_train'] == 1][relevant_features]\n",
    "testX = data[data['is_test'] == 1][relevant_features]"
   ]
  },
  {
   "cell_type": "code",
   "execution_count": 5,
   "metadata": {
    "colab": {
     "base_uri": "https://localhost:8080/",
     "height": 270
    },
    "colab_type": "code",
    "id": "pq_HT9VF93tn",
    "outputId": "c4fb903d-1b7c-4c58-bb14-d87742b615fa",
    "scrolled": true
   },
   "outputs": [
    {
     "data": {
      "text/html": [
       "<div>\n",
       "<style scoped>\n",
       "    .dataframe tbody tr th:only-of-type {\n",
       "        vertical-align: middle;\n",
       "    }\n",
       "\n",
       "    .dataframe tbody tr th {\n",
       "        vertical-align: top;\n",
       "    }\n",
       "\n",
       "    .dataframe thead th {\n",
       "        text-align: right;\n",
       "    }\n",
       "</style>\n",
       "<table border=\"1\" class=\"dataframe\">\n",
       "  <thead>\n",
       "    <tr style=\"text-align: right;\">\n",
       "      <th></th>\n",
       "      <th>Unnamed: 0</th>\n",
       "      <th>SK_ID_CURR</th>\n",
       "      <th>NAME_CONTRACT_TYPE</th>\n",
       "      <th>CODE_GENDER</th>\n",
       "      <th>FLAG_OWN_CAR</th>\n",
       "      <th>FLAG_OWN_REALTY</th>\n",
       "      <th>CNT_CHILDREN</th>\n",
       "      <th>AMT_INCOME_TOTAL</th>\n",
       "      <th>AMT_CREDIT</th>\n",
       "      <th>AMT_ANNUITY</th>\n",
       "      <th>...</th>\n",
       "      <th>ORGANIZATION_TYPE_Transport: type 1</th>\n",
       "      <th>ORGANIZATION_TYPE_Transport: type 2</th>\n",
       "      <th>ORGANIZATION_TYPE_Transport: type 3</th>\n",
       "      <th>ORGANIZATION_TYPE_Transport: type 4</th>\n",
       "      <th>ORGANIZATION_TYPE_University</th>\n",
       "      <th>ORGANIZATION_TYPE_XNA</th>\n",
       "      <th>FONDKAPREMONT_MODE_not specified</th>\n",
       "      <th>FONDKAPREMONT_MODE_org spec account</th>\n",
       "      <th>FONDKAPREMONT_MODE_reg oper account</th>\n",
       "      <th>FONDKAPREMONT_MODE_reg oper spec account</th>\n",
       "    </tr>\n",
       "  </thead>\n",
       "  <tbody>\n",
       "    <tr>\n",
       "      <th>0</th>\n",
       "      <td>0</td>\n",
       "      <td>100002</td>\n",
       "      <td>0</td>\n",
       "      <td>0</td>\n",
       "      <td>0</td>\n",
       "      <td>0</td>\n",
       "      <td>0</td>\n",
       "      <td>202500.0</td>\n",
       "      <td>406597.5</td>\n",
       "      <td>24700.5</td>\n",
       "      <td>...</td>\n",
       "      <td>0</td>\n",
       "      <td>0</td>\n",
       "      <td>0</td>\n",
       "      <td>0</td>\n",
       "      <td>0</td>\n",
       "      <td>0</td>\n",
       "      <td>0</td>\n",
       "      <td>0</td>\n",
       "      <td>1</td>\n",
       "      <td>0</td>\n",
       "    </tr>\n",
       "    <tr>\n",
       "      <th>1</th>\n",
       "      <td>1</td>\n",
       "      <td>100003</td>\n",
       "      <td>0</td>\n",
       "      <td>1</td>\n",
       "      <td>0</td>\n",
       "      <td>1</td>\n",
       "      <td>0</td>\n",
       "      <td>270000.0</td>\n",
       "      <td>1293502.5</td>\n",
       "      <td>35698.5</td>\n",
       "      <td>...</td>\n",
       "      <td>0</td>\n",
       "      <td>0</td>\n",
       "      <td>0</td>\n",
       "      <td>0</td>\n",
       "      <td>0</td>\n",
       "      <td>0</td>\n",
       "      <td>0</td>\n",
       "      <td>0</td>\n",
       "      <td>1</td>\n",
       "      <td>0</td>\n",
       "    </tr>\n",
       "    <tr>\n",
       "      <th>2</th>\n",
       "      <td>2</td>\n",
       "      <td>100004</td>\n",
       "      <td>1</td>\n",
       "      <td>0</td>\n",
       "      <td>1</td>\n",
       "      <td>0</td>\n",
       "      <td>0</td>\n",
       "      <td>67500.0</td>\n",
       "      <td>135000.0</td>\n",
       "      <td>6750.0</td>\n",
       "      <td>...</td>\n",
       "      <td>0</td>\n",
       "      <td>0</td>\n",
       "      <td>0</td>\n",
       "      <td>0</td>\n",
       "      <td>0</td>\n",
       "      <td>0</td>\n",
       "      <td>0</td>\n",
       "      <td>0</td>\n",
       "      <td>1</td>\n",
       "      <td>0</td>\n",
       "    </tr>\n",
       "    <tr>\n",
       "      <th>3</th>\n",
       "      <td>3</td>\n",
       "      <td>100006</td>\n",
       "      <td>0</td>\n",
       "      <td>1</td>\n",
       "      <td>0</td>\n",
       "      <td>0</td>\n",
       "      <td>0</td>\n",
       "      <td>135000.0</td>\n",
       "      <td>312682.5</td>\n",
       "      <td>29686.5</td>\n",
       "      <td>...</td>\n",
       "      <td>0</td>\n",
       "      <td>0</td>\n",
       "      <td>0</td>\n",
       "      <td>0</td>\n",
       "      <td>0</td>\n",
       "      <td>0</td>\n",
       "      <td>0</td>\n",
       "      <td>0</td>\n",
       "      <td>1</td>\n",
       "      <td>0</td>\n",
       "    </tr>\n",
       "    <tr>\n",
       "      <th>4</th>\n",
       "      <td>4</td>\n",
       "      <td>100007</td>\n",
       "      <td>0</td>\n",
       "      <td>0</td>\n",
       "      <td>0</td>\n",
       "      <td>0</td>\n",
       "      <td>0</td>\n",
       "      <td>121500.0</td>\n",
       "      <td>513000.0</td>\n",
       "      <td>21865.5</td>\n",
       "      <td>...</td>\n",
       "      <td>0</td>\n",
       "      <td>0</td>\n",
       "      <td>0</td>\n",
       "      <td>0</td>\n",
       "      <td>0</td>\n",
       "      <td>0</td>\n",
       "      <td>0</td>\n",
       "      <td>0</td>\n",
       "      <td>1</td>\n",
       "      <td>0</td>\n",
       "    </tr>\n",
       "  </tbody>\n",
       "</table>\n",
       "<p>5 rows × 228 columns</p>\n",
       "</div>"
      ],
      "text/plain": [
       "   Unnamed: 0  SK_ID_CURR  NAME_CONTRACT_TYPE  CODE_GENDER  FLAG_OWN_CAR  \\\n",
       "0           0      100002                   0            0             0   \n",
       "1           1      100003                   0            1             0   \n",
       "2           2      100004                   1            0             1   \n",
       "3           3      100006                   0            1             0   \n",
       "4           4      100007                   0            0             0   \n",
       "\n",
       "   FLAG_OWN_REALTY  CNT_CHILDREN  AMT_INCOME_TOTAL  AMT_CREDIT  AMT_ANNUITY  \\\n",
       "0                0             0          202500.0    406597.5      24700.5   \n",
       "1                1             0          270000.0   1293502.5      35698.5   \n",
       "2                0             0           67500.0    135000.0       6750.0   \n",
       "3                0             0          135000.0    312682.5      29686.5   \n",
       "4                0             0          121500.0    513000.0      21865.5   \n",
       "\n",
       "   ...  ORGANIZATION_TYPE_Transport: type 1  \\\n",
       "0  ...                                    0   \n",
       "1  ...                                    0   \n",
       "2  ...                                    0   \n",
       "3  ...                                    0   \n",
       "4  ...                                    0   \n",
       "\n",
       "   ORGANIZATION_TYPE_Transport: type 2  ORGANIZATION_TYPE_Transport: type 3  \\\n",
       "0                                    0                                    0   \n",
       "1                                    0                                    0   \n",
       "2                                    0                                    0   \n",
       "3                                    0                                    0   \n",
       "4                                    0                                    0   \n",
       "\n",
       "   ORGANIZATION_TYPE_Transport: type 4  ORGANIZATION_TYPE_University  \\\n",
       "0                                    0                             0   \n",
       "1                                    0                             0   \n",
       "2                                    0                             0   \n",
       "3                                    0                             0   \n",
       "4                                    0                             0   \n",
       "\n",
       "   ORGANIZATION_TYPE_XNA  FONDKAPREMONT_MODE_not specified  \\\n",
       "0                      0                                 0   \n",
       "1                      0                                 0   \n",
       "2                      0                                 0   \n",
       "3                      0                                 0   \n",
       "4                      0                                 0   \n",
       "\n",
       "   FONDKAPREMONT_MODE_org spec account  FONDKAPREMONT_MODE_reg oper account  \\\n",
       "0                                    0                                    1   \n",
       "1                                    0                                    1   \n",
       "2                                    0                                    1   \n",
       "3                                    0                                    1   \n",
       "4                                    0                                    1   \n",
       "\n",
       "   FONDKAPREMONT_MODE_reg oper spec account  \n",
       "0                                         0  \n",
       "1                                         0  \n",
       "2                                         0  \n",
       "3                                         0  \n",
       "4                                         0  \n",
       "\n",
       "[5 rows x 228 columns]"
      ]
     },
     "execution_count": 5,
     "metadata": {},
     "output_type": "execute_result"
    }
   ],
   "source": [
    "data.head()"
   ]
  },
  {
   "cell_type": "code",
   "execution_count": 44,
   "metadata": {
    "colab": {
     "base_uri": "https://localhost:8080/",
     "height": 34
    },
    "colab_type": "code",
    "id": "L63vu08L6XmJ",
    "outputId": "a5b901c0-722d-43c1-f5b6-5435c4da6036"
   },
   "outputs": [
    {
     "data": {
      "text/plain": [
       "307507"
      ]
     },
     "execution_count": 44,
     "metadata": {},
     "output_type": "execute_result"
    }
   ],
   "source": [
    "Y = train_labels\n",
    "len(Y)"
   ]
  },
  {
   "cell_type": "code",
   "execution_count": 45,
   "metadata": {
    "colab": {},
    "colab_type": "code",
    "id": "TBLx-02v6XmO"
   },
   "outputs": [],
   "source": [
    "from sklearn.model_selection import train_test_split\n",
    "x_train, x_val, y_train, y_val = train_test_split(trainX, Y, test_size=0.3, random_state=42)"
   ]
  },
  {
   "cell_type": "code",
   "execution_count": 8,
   "metadata": {
    "colab": {
     "base_uri": "https://localhost:8080/",
     "height": 34
    },
    "colab_type": "code",
    "id": "HCQ7vvU_6XmR",
    "outputId": "1bf77871-ce95-4615-8e51-ebdcf70430b2"
   },
   "outputs": [
    {
     "name": "stdout",
     "output_type": "stream",
     "text": [
      "[0.91924424 0.91924424 0.9192396  0.9192303  0.91922101]\n"
     ]
    }
   ],
   "source": [
    "import numpy as np\n",
    "import matplotlib.pyplot as plt\n",
    "from sklearn.datasets import load_digits\n",
    "from sklearn.model_selection import GridSearchCV\n",
    "from sklearn.pipeline import Pipeline\n",
    "from sklearn.svm import LinearSVC\n",
    "from sklearn.decomposition import PCA, NMF\n",
    "from sklearn.feature_selection import SelectKBest, chi2\n",
    "np.seterr(divide='ignore', invalid='ignore')\n",
    "import warnings\n",
    "warnings.filterwarnings('ignore')\n",
    "\n",
    "pipe = Pipeline([\n",
    "    # the reduce_dim stage is populated by the param_grid\n",
    "    ('reduce_dim', 'passthrough'),\n",
    "    ('classify', LinearSVC(dual=False, max_iter=10000))\n",
    "])\n",
    "\n",
    "N_FEATURES_OPTIONS = [25, 50, 100, 150, 200]\n",
    "param_grid = [\n",
    "   \n",
    "    {\n",
    "        'reduce_dim': [SelectKBest()],\n",
    "        'reduce_dim__k': N_FEATURES_OPTIONS\n",
    "    }\n",
    "]\n",
    "#reducer_labels = ['KBest(chi2)']\n",
    "\n",
    "grid = GridSearchCV(pipe, n_jobs=-1, param_grid=param_grid)\n",
    "#X, y = load_digits(return_X_y=True)\n",
    "grid.fit(x_train, y_train)\n",
    "\n",
    "mean_scores = np.array(grid.cv_results_['mean_test_score'])\n",
    "print(mean_scores)"
   ]
  },
  {
   "cell_type": "code",
   "execution_count": 50,
   "metadata": {
    "colab": {},
    "colab_type": "code",
    "id": "_9O9BXu36XmV"
   },
   "outputs": [],
   "source": [
    "from sklearn.model_selection import GridSearchCV\n",
    "from sklearn.feature_selection import SelectKBest, f_classif\n",
    "skb = SelectKBest(f_classif,k=50)\n",
    "\n",
    "x_new = skb.fit_transform(x_train, y_train)\n",
    "x_val_new = skb.transform(x_val)\n",
    "x_test_final=skb.transform(testX)"
   ]
  },
  {
   "cell_type": "code",
   "execution_count": 14,
   "metadata": {
    "colab": {
     "base_uri": "https://localhost:8080/",
     "height": 313
    },
    "colab_type": "code",
    "id": "OhH_Fqos6XmZ",
    "outputId": "a6b9d779-1860-492a-d420-859bd7bc086f"
   },
   "outputs": [
    {
     "name": "stderr",
     "output_type": "stream",
     "text": [
      "100%|██████████| 5/5 [01:09<00:00, 13.92s/it]\n"
     ]
    },
    {
     "data": {
      "image/png": "[encoded data removed]",
      "text/plain": [
       "<Figure size 432x288 with 1 Axes>"
      ]
     },
     "metadata": {
      "needs_background": "light",
      "tags": []
     },
     "output_type": "display_data"
    }
   ],
   "source": [
    "from sklearn.decomposition import TruncatedSVD\n",
    "from tqdm import tqdm\n",
    "n_components = [25, 50 ,100 , 150 ,200 ]\n",
    "variance_explained = []\n",
    "for i in tqdm(n_components):\n",
    "    svd = TruncatedSVD(n_components= i)\n",
    "    svd.fit_transform(x_train, y_train)\n",
    "    variance_explained.append(svd.explained_variance_ratio_.sum())\n",
    "plt.grid()\n",
    "plt.xlabel(\"n_components\")\n",
    "plt.ylabel(\"Cummulative_Explained_Variance\")\n",
    "plt.title(\"Variance Explained v/s Number of Components\")\n",
    "plt.plot(n_components, variance_explained,lw=2)\n",
    "plt.show()"
   ]
  },
  {
   "cell_type": "code",
   "execution_count": 15,
   "metadata": {
    "colab": {
     "base_uri": "https://localhost:8080/",
     "height": 51
    },
    "colab_type": "code",
    "id": "4IKBxiiy6Xmd",
    "outputId": "5e5fce00-4c8e-4546-c51b-8e15141d5bd1"
   },
   "outputs": [
    {
     "name": "stdout",
     "output_type": "stream",
     "text": [
      "Train matrix shape after applying TruncatedSVD: (215254, 50)\n",
      "Test matrix shape after applying TruncatedSVD: (92253, 50)\n"
     ]
    }
   ],
   "source": [
    "svd = TruncatedSVD(50)\n",
    "svd.fit(x_train, y_train)\n",
    "x_new1 = svd.fit_transform(x_train, y_train)\n",
    "x_val_new1 = svd.transform(x_val)\n",
    "#x_test_final=svd.transform(testX)\n",
    "print(\"Train matrix shape after applying TruncatedSVD:\", x_new1.shape)\n",
    "print(\"Test matrix shape after applying TruncatedSVD:\", x_val_new1.shape)"
   ]
  },
  {
   "cell_type": "code",
   "execution_count": 70,
   "metadata": {
    "colab": {
     "base_uri": "https://localhost:8080/",
     "height": 34
    },
    "colab_type": "code",
    "id": "SI8n0jc76Xmj",
    "outputId": "c0b1c929-37d8-4f74-cbcc-fbb7c90ae248"
   },
   "outputs": [],
   "source": [
    "# Import necessary modules\n",
    "import keras\n",
    "from keras.layers import Dense\n",
    "from keras.models import Sequential\n",
    "from keras.utils import to_categorical\n",
    "# Import EarlyStopping\n",
    "from keras.callbacks import EarlyStopping \n",
    "from sklearn.model_selection import train_test_split, GridSearchCV, KFold\n",
    "from sklearn.tree import DecisionTreeClassifier\n",
    "import sklearn.neighbors as nb\n",
    "import sklearn.neighbors as  KNeighborsClassifier\n",
    "from sklearn import linear_model\n",
    "from sklearn.neighbors.nearest_centroid import NearestCentroid\n",
    "import sklearn.model_selection as ms\n",
    "from sklearn.ensemble import AdaBoostClassifier, VotingClassifier, BaggingClassifier, GradientBoostingClassifier, RandomForestClassifier\n",
    "from sklearn.metrics import  recall_score, precision_score, accuracy_score\n",
    "from sklearn.linear_model import RidgeClassifier, Lasso,LogisticRegression\n",
    "from mlxtend.classifier import StackingClassifier\n",
    "from numpy import loadtxt\n",
    "from xgboost import XGBClassifier\n",
    "from sklearn.model_selection import train_test_split\n",
    "from sklearn.metrics import accuracy_score\n",
    "\n",
    "from xgboost import XGBClassifier\n",
    "from sklearn import metrics, model_selection\n",
    "from sklearn.metrics import roc_auc_score\n",
    "from sklearn.neural_network import MLPClassifier\n",
    "from sklearn.naive_bayes import GaussianNB\n",
    "from sklearn.metrics import confusion_matrix\n",
    "import warnings\n",
    "warnings.filterwarnings(\"ignore\")"
   ]
  },
  {
   "cell_type": "markdown",
   "metadata": {
    "colab_type": "text",
    "id": "4CIedpeb8DlA"
   },
   "source": [
    "<h3> Logistic Regression </h3>"
   ]
  },
  {
   "cell_type": "markdown",
   "metadata": {
    "colab_type": "text",
    "id": "rKY3t5Qu8DlB"
   },
   "source": [
    "<h4> Hyperparameter tuning Logistic Regression with select K best features</h4>"
   ]
  },
  {
   "cell_type": "code",
   "execution_count": 53,
   "metadata": {
    "colab": {
     "base_uri": "https://localhost:8080/",
     "height": 51
    },
    "colab_type": "code",
    "id": "1AFiS3u38DlE",
    "outputId": "b50d5d89-511d-4033-91b3-9f80fb3f87c1"
   },
   "outputs": [
    {
     "name": "stdout",
     "output_type": "stream",
     "text": [
      "Best parameters:  {'C': 0.5}\n",
      "Best score: 0.18914190370999234\n"
     ]
    }
   ],
   "source": [
    "from sklearn.model_selection import RandomizedSearchCV\n",
    "parameters = {'C':[(10**i)*x for i in range(-4, 1) for x in [1,3,5,10]]}\n",
    "\n",
    "model = LogisticRegression(penalty='l2', C=1.0, class_weight='balanced', random_state=42, max_iter=500, n_jobs=-1)\n",
    "clf = RandomizedSearchCV(model, parameters, cv=5, scoring='f1', return_train_score=True, n_jobs=-1)\n",
    "clf.fit(x_new, y_train)\n",
    "print('Best parameters:  {}'.format(clf.best_params_))\n",
    "print('Best score: {}'.format(clf.best_score_))"
   ]
  },
  {
   "cell_type": "markdown",
   "metadata": {
    "colab_type": "text",
    "id": "QjKZQUFO8DlM"
   },
   "source": [
    "<h4>Training Logistic Regression with best hyperparameters </h4>"
   ]
  },
  {
   "cell_type": "code",
   "execution_count": 10,
   "metadata": {},
   "outputs": [],
   "source": [
    "score = {}"
   ]
  },
  {
   "cell_type": "code",
   "execution_count": 55,
   "metadata": {
    "colab": {
     "base_uri": "https://localhost:8080/",
     "height": 393
    },
    "colab_type": "code",
    "id": "5O9eAH0r8DlN",
    "outputId": "8fcd8f67-129a-44e8-8ac2-06844f2175c9"
   },
   "outputs": [
    {
     "name": "stdout",
     "output_type": "stream",
     "text": [
      "**************************************************\n",
      "Train AUC: 0.618\n",
      "val AUC: 0.620\n",
      "**************************************************\n",
      "Train F1 score: 0.188\n",
      "val F1 score: 0.188\n"
     ]
    },
    {
     "data": {
      "image/png": "[encoded data removed]",
      "text/plain": [
       "<Figure size 432x288 with 1 Axes>"
      ]
     },
     "metadata": {
      "needs_background": "light"
     },
     "output_type": "display_data"
    }
   ],
   "source": [
    "from sklearn.metrics import f1_score\n",
    "from sklearn.metrics import roc_curve\n",
    "from sklearn.metrics import accuracy_score \n",
    "model = LogisticRegression(C=0.5, class_weight='balanced', n_jobs=-1)\n",
    "model.fit(x_new, y_train)\n",
    "y_probs_train = model.predict_proba(x_new)\n",
    "y_probs_val = model.predict_proba(x_val_new)\n",
    "y_predicted_train = model.predict(x_new)\n",
    "y_predicted_val = model.predict(x_val_new)\n",
    "\n",
    "# keep probabilities for the positive outcome only\n",
    "y_probs_train = y_probs_train[:, 1]\n",
    "y_probs_val = y_probs_val[:, 1]\n",
    "\n",
    "# calculate AUC and F1 score\n",
    "train_auc = roc_auc_score(y_train, y_probs_train)\n",
    "val_auc = roc_auc_score(y_val, y_probs_val)\n",
    "train_f1 = f1_score(y_train, y_predicted_train)\n",
    "val_f1 = f1_score(y_val, y_predicted_val)\n",
    "print('*'*50)\n",
    "print('Train AUC: %.3f' % train_auc)\n",
    "print('val AUC: %.3f' % val_auc)\n",
    "print('*'*50)\n",
    "print('Train F1 score: %.3f' % train_f1)\n",
    "print('val F1 score: %.3f' % val_f1)\n",
    "\n",
    "score['Logistic Regression'] = [val_auc, val_f1]\n",
    "\n",
    "# calculate roc curve\n",
    "train_fpr, train_tpr, train_thresholds = roc_curve(y_train, y_probs_train)\n",
    "val_fpr, val_tpr, val_thresholds = roc_curve(y_val, y_probs_val)\n",
    "plt.plot([0, 1], [0, 1], linestyle='--')\n",
    "# plot the roc curve for the model\n",
    "plt.plot(train_fpr, train_tpr, marker='.', label='Train AUC')\n",
    "plt.plot(val_fpr, val_tpr, marker='.', label='val AUC')\n",
    "plt.legend()\n",
    "plt.xlabel(\"False Positive Rate\")\n",
    "plt.ylabel(\"True Positive Rate\")\n",
    "plt.title(\"ROC Curve\")\n",
    "plt.show()"
   ]
  },
  {
   "cell_type": "markdown",
   "metadata": {
    "colab_type": "text",
    "id": "-N5swTtw8DlR"
   },
   "source": [
    "<h4> Train Confusion Matrix </h4>"
   ]
  },
  {
   "cell_type": "code",
   "execution_count": 56,
   "metadata": {
    "colab": {
     "base_uri": "https://localhost:8080/",
     "height": 493
    },
    "colab_type": "code",
    "id": "m90ZIG3U8DlT",
    "outputId": "8402e6be-e09c-40a4-9175-182f4d21bfbd"
   },
   "outputs": [
    {
     "name": "stdout",
     "output_type": "stream",
     "text": [
      "Confusion matrix:\n",
      " [[122246  75561]\n",
      " [  7808   9639]]\n"
     ]
    },
    {
     "data": {
      "text/plain": [
       "<matplotlib.axes._subplots.AxesSubplot at 0x1ff6e09ecc8>"
      ]
     },
     "execution_count": 56,
     "metadata": {},
     "output_type": "execute_result"
    },
    {
     "data": {
      "image/png": "[encoded data removed]",
      "text/plain": [
       "<Figure size 720x504 with 2 Axes>"
      ]
     },
     "metadata": {
      "needs_background": "light"
     },
     "output_type": "display_data"
    }
   ],
   "source": [
    "from sklearn.metrics import confusion_matrix\n",
    "\n",
    "cma = confusion_matrix(y_train, y_predicted_train)\n",
    "print('Confusion matrix:\\n', cma)\n",
    "df_cm = pd.DataFrame(cma, range(2), columns=range(2))\n",
    "plt.figure(figsize = (10,7))\n",
    "sns.heatmap(df_cm, annot=True,annot_kws={\"size\": 16}, fmt='g')"
   ]
  },
  {
   "cell_type": "markdown",
   "metadata": {
    "colab_type": "text",
    "id": "ql-OT1Bj8DlX"
   },
   "source": [
    "<h4> Validation Confusion Matrix </h4>"
   ]
  },
  {
   "cell_type": "code",
   "execution_count": 57,
   "metadata": {
    "colab": {
     "base_uri": "https://localhost:8080/",
     "height": 493
    },
    "colab_type": "code",
    "id": "3iBXQ4178DlY",
    "outputId": "d1e6a1ea-e6da-425a-9bd6-83829b140eee"
   },
   "outputs": [
    {
     "name": "stdout",
     "output_type": "stream",
     "text": [
      "Confusion matrix:\n",
      " [[52277 32598]\n",
      " [ 3233  4145]]\n"
     ]
    },
    {
     "data": {
      "text/plain": [
       "<matplotlib.axes._subplots.AxesSubplot at 0x1ff6e21ee88>"
      ]
     },
     "execution_count": 57,
     "metadata": {},
     "output_type": "execute_result"
    },
    {
     "data": {
      "image/png": "[encoded data removed]",
      "text/plain": [
       "<Figure size 720x504 with 2 Axes>"
      ]
     },
     "metadata": {
      "needs_background": "light"
     },
     "output_type": "display_data"
    }
   ],
   "source": [
    "from sklearn.metrics import confusion_matrix\n",
    "\n",
    "cma = confusion_matrix(y_val, y_predicted_val)\n",
    "print('Confusion matrix:\\n', cma)\n",
    "df_cm = pd.DataFrame(cma, range(2), columns=range(2))\n",
    "plt.figure(figsize = (10,7))\n",
    "sns.heatmap(df_cm, annot=True,annot_kws={\"size\": 16}, fmt='g')"
   ]
  },
  {
   "cell_type": "markdown",
   "metadata": {},
   "source": [
    "## Logistic Regression with all features"
   ]
  },
  {
   "cell_type": "code",
   "execution_count": 58,
   "metadata": {},
   "outputs": [
    {
     "name": "stdout",
     "output_type": "stream",
     "text": [
      "Best parameters:  {'C': 0.00030000000000000003}\n",
      "Best score: 0.20050034254313517\n"
     ]
    }
   ],
   "source": [
    "from sklearn.model_selection import RandomizedSearchCV\n",
    "parameters = {'C':[(10**i)*x for i in range(-4, 1) for x in [1,3,5,10]]}\n",
    "\n",
    "model = LogisticRegression(penalty='l2', C=1.0, class_weight='balanced', random_state=42, max_iter=500, n_jobs=-1)\n",
    "clf = RandomizedSearchCV(model, parameters, cv=5, scoring='f1', return_train_score=True, n_jobs=-1)\n",
    "clf.fit(x_train, y_train)\n",
    "print('Best parameters:  {}'.format(clf.best_params_))\n",
    "print('Best score: {}'.format(clf.best_score_))"
   ]
  },
  {
   "cell_type": "code",
   "execution_count": 60,
   "metadata": {},
   "outputs": [
    {
     "name": "stdout",
     "output_type": "stream",
     "text": [
      "**************************************************\n",
      "Train AUC: 0.634\n",
      "val AUC: 0.636\n",
      "**************************************************\n",
      "Train F1 score: 0.196\n",
      "val F1 score: 0.193\n"
     ]
    },
    {
     "data": {
      "image/png": "[encoded data removed]",
      "text/plain": [
       "<Figure size 432x288 with 1 Axes>"
      ]
     },
     "metadata": {
      "needs_background": "light"
     },
     "output_type": "display_data"
    }
   ],
   "source": [
    "from sklearn.metrics import f1_score\n",
    "from sklearn.metrics import roc_curve\n",
    "from sklearn.metrics import accuracy_score \n",
    "model = LogisticRegression(C=0.01, class_weight='balanced', n_jobs=-1)\n",
    "model.fit(x_train, y_train)\n",
    "y_probs_train = model.predict_proba(x_train)\n",
    "y_probs_val = model.predict_proba(x_val)\n",
    "y_predicted_train = model.predict(x_train)\n",
    "y_predicted_val = model.predict(x_val)\n",
    "\n",
    "# keep probabilities for the positive outcome only\n",
    "y_probs_train = y_probs_train[:, 1]\n",
    "y_probs_val = y_probs_val[:, 1]\n",
    "\n",
    "# calculate AUC and F1 score\n",
    "train_auc = roc_auc_score(y_train, y_probs_train)\n",
    "val_auc = roc_auc_score(y_val, y_probs_val)\n",
    "train_f1 = f1_score(y_train, y_predicted_train)\n",
    "val_f1 = f1_score(y_val, y_predicted_val)\n",
    "print('*'*50)\n",
    "print('Train AUC: %.3f' % train_auc)\n",
    "print('val AUC: %.3f' % val_auc)\n",
    "print('*'*50)\n",
    "print('Train F1 score: %.3f' % train_f1)\n",
    "print('val F1 score: %.3f' % val_f1)\n",
    "\n",
    "score['Logistic Regression'] = [val_auc, val_f1]\n",
    "\n",
    "# calculate roc curve\n",
    "train_fpr, train_tpr, train_thresholds = roc_curve(y_train, y_probs_train)\n",
    "val_fpr, val_tpr, val_thresholds = roc_curve(y_val, y_probs_val)\n",
    "plt.plot([0, 1], [0, 1], linestyle='--')\n",
    "# plot the roc curve for the model\n",
    "plt.plot(train_fpr, train_tpr, marker='.', label='Train AUC')\n",
    "plt.plot(val_fpr, val_tpr, marker='.', label='val AUC')\n",
    "plt.legend()\n",
    "plt.xlabel(\"False Positive Rate\")\n",
    "plt.ylabel(\"True Positive Rate\")\n",
    "plt.title(\"ROC Curve\")\n",
    "plt.show()"
   ]
  },
  {
   "cell_type": "markdown",
   "metadata": {
    "colab_type": "text",
    "id": "aCPDZ_Jf8Dld"
   },
   "source": [
    "<h3> Random Forest </h3>"
   ]
  },
  {
   "cell_type": "markdown",
   "metadata": {
    "colab_type": "text",
    "id": "V6srMnnD8Dli"
   },
   "source": [
    "<h4> Hyperparameter tuning Random Forest </h4>"
   ]
  },
  {
   "cell_type": "code",
   "execution_count": 61,
   "metadata": {
    "colab": {
     "base_uri": "https://localhost:8080/",
     "height": 374
    },
    "colab_type": "code",
    "id": "40WrO9lK8Dlm",
    "outputId": "c3073c6b-fdd8-4aa3-b699-4e6cc72aec5a"
   },
   "outputs": [
    {
     "name": "stdout",
     "output_type": "stream",
     "text": [
      "Best parameters:  {'n_estimators': 500, 'max_depth': 10}\n",
      "Best score: 0.27241594319038215\n"
     ]
    }
   ],
   "source": [
    "params = {'n_estimators':[75, 100, 250, 500], 'max_depth':[3, 5, 10, 15]}\n",
    "model = RandomForestClassifier(class_weight='balanced', n_jobs=-1)\n",
    "clf = RandomizedSearchCV(model, param_distributions=params, cv=5, scoring='f1', random_state=42, n_jobs=-1, return_train_score=True)\n",
    "clf.fit(x_new, y_train)\n",
    "print('Best parameters:  {}'.format(clf.best_params_))\n",
    "print('Best score: {}'.format(clf.best_score_))"
   ]
  },
  {
   "cell_type": "markdown",
   "metadata": {
    "colab_type": "text",
    "id": "it-vdMiC8Dlq"
   },
   "source": [
    "<h4> Training random forest with best hyperparameters </h4>"
   ]
  },
  {
   "cell_type": "code",
   "execution_count": 62,
   "metadata": {
    "colab": {},
    "colab_type": "code",
    "id": "wr3q9FxI8Dlr",
    "outputId": "387ef7af-f4f1-4053-8723-a81bf263afae"
   },
   "outputs": [
    {
     "name": "stdout",
     "output_type": "stream",
     "text": [
      "**************************************************\n",
      "Train AUC: 0.821\n",
      "val AUC: 0.741\n",
      "**************************************************\n",
      "Train F1 score: 0.331\n",
      "val F1 score: 0.273\n"
     ]
    },
    {
     "data": {
      "image/png": "[encoded data removed]",
      "text/plain": [
       "<Figure size 432x288 with 1 Axes>"
      ]
     },
     "metadata": {
      "needs_background": "light"
     },
     "output_type": "display_data"
    }
   ],
   "source": [
    "model = RandomForestClassifier(n_estimators=500, max_depth=10, class_weight='balanced', n_jobs=-1)\n",
    "model.fit(x_new, y_train)\n",
    "y_probs_train = model.predict_proba(x_new)\n",
    "y_probs_val = model.predict_proba(x_val_new)\n",
    "y_predicted_train = model.predict(x_new)\n",
    "y_predicted_val = model.predict(x_val_new)\n",
    "\n",
    "# keep probabilities for the positive outcome only\n",
    "y_probs_train = y_probs_train[:, 1]\n",
    "y_probs_val = y_probs_val[:, 1]\n",
    "\n",
    "# calculate AUC and Accuracy\n",
    "train_auc = roc_auc_score(y_train, y_probs_train)\n",
    "val_auc = roc_auc_score(y_val, y_probs_val)\n",
    "train_f1 = f1_score(y_train, y_predicted_train)\n",
    "val_f1 = f1_score(y_val, y_predicted_val)\n",
    "print('*'*50)\n",
    "print('Train AUC: %.3f' % train_auc)\n",
    "print('val AUC: %.3f' % val_auc)\n",
    "print('*'*50)\n",
    "print('Train F1 score: %.3f' % train_f1)\n",
    "print('val F1 score: %.3f' % val_f1)\n",
    "\n",
    "score['Random Forest'] = [val_auc, val_f1]\n",
    "\n",
    "# calculate roc curve\n",
    "train_fpr, train_tpr, train_thresholds = roc_curve(y_train, y_probs_train)\n",
    "val_fpr, val_tpr, val_thresholds = roc_curve(y_val, y_probs_val)\n",
    "plt.plot([0, 1], [0, 1], linestyle='--')\n",
    "# plot the roc curve for the model\n",
    "plt.plot(train_fpr, train_tpr, marker='.', label='Train AUC')\n",
    "plt.plot(val_fpr, val_tpr, marker='.', label='val AUC')\n",
    "plt.legend()\n",
    "plt.xlabel(\"False Positive Rate\")\n",
    "plt.ylabel(\"True Positive Rate\")\n",
    "plt.title(\"ROC Curve\")\n",
    "plt.show()\n"
   ]
  },
  {
   "cell_type": "markdown",
   "metadata": {
    "colab_type": "text",
    "id": "6Ik0xhLt8Dlx"
   },
   "source": [
    "<h4> Train Confusion Matrix </h4>"
   ]
  },
  {
   "cell_type": "code",
   "execution_count": 63,
   "metadata": {
    "colab": {},
    "colab_type": "code",
    "id": "rs3cXdJ88Dlx",
    "outputId": "01fb9ce7-7c50-4b60-8e09-adfd403cf6e5"
   },
   "outputs": [
    {
     "name": "stdout",
     "output_type": "stream",
     "text": [
      "Confusion matrix:\n",
      " [[153850  43957]\n",
      " [  5291  12156]]\n"
     ]
    },
    {
     "data": {
      "text/plain": [
       "<matplotlib.axes._subplots.AxesSubplot at 0x1feeb5c6508>"
      ]
     },
     "execution_count": 63,
     "metadata": {},
     "output_type": "execute_result"
    },
    {
     "data": {
      "image/png": "[encoded data removed]",
      "text/plain": [
       "<Figure size 720x504 with 2 Axes>"
      ]
     },
     "metadata": {
      "needs_background": "light"
     },
     "output_type": "display_data"
    }
   ],
   "source": [
    "from sklearn.metrics import confusion_matrix\n",
    "\n",
    "cma = confusion_matrix(y_train, y_predicted_train)\n",
    "print('Confusion matrix:\\n', cma)\n",
    "df_cm = pd.DataFrame(cma, range(2), columns=range(2))\n",
    "plt.figure(figsize = (10,7))\n",
    "sns.heatmap(df_cm, annot=True,annot_kws={\"size\": 16}, fmt='g')"
   ]
  },
  {
   "cell_type": "markdown",
   "metadata": {
    "colab_type": "text",
    "id": "oEhIx99l8Dl1"
   },
   "source": [
    "<h4> Validation Confusion Matrix </h4>"
   ]
  },
  {
   "cell_type": "code",
   "execution_count": 64,
   "metadata": {
    "colab": {},
    "colab_type": "code",
    "id": "PqgXbTtI8Dl1",
    "outputId": "1a4ff688-4aa6-44cb-9427-e781ad6e4ea1"
   },
   "outputs": [
    {
     "name": "stdout",
     "output_type": "stream",
     "text": [
      "Confusion matrix:\n",
      " [[65222 19653]\n",
      " [ 3110  4268]]\n"
     ]
    },
    {
     "data": {
      "text/plain": [
       "<matplotlib.axes._subplots.AxesSubplot at 0x1feeb6710c8>"
      ]
     },
     "execution_count": 64,
     "metadata": {},
     "output_type": "execute_result"
    },
    {
     "data": {
      "image/png": "[encoded data removed]",
      "text/plain": [
       "<Figure size 720x504 with 2 Axes>"
      ]
     },
     "metadata": {
      "needs_background": "light"
     },
     "output_type": "display_data"
    }
   ],
   "source": [
    "from sklearn.metrics import confusion_matrix\n",
    "\n",
    "cma = confusion_matrix(y_val, y_predicted_val)\n",
    "print('Confusion matrix:\\n', cma)\n",
    "df_cm = pd.DataFrame(cma, range(2), columns=range(2))\n",
    "plt.figure(figsize = (10,7))\n",
    "sns.heatmap(df_cm, annot=True,annot_kws={\"size\": 16}, fmt='g')"
   ]
  },
  {
   "cell_type": "markdown",
   "metadata": {},
   "source": [
    "## Random Forest with all features"
   ]
  },
  {
   "cell_type": "code",
   "execution_count": 65,
   "metadata": {},
   "outputs": [
    {
     "name": "stdout",
     "output_type": "stream",
     "text": [
      "Best parameters:  {'n_estimators': 500, 'max_depth': 10}\n",
      "Best score: 0.2761055610518571\n"
     ]
    }
   ],
   "source": [
    "params = {'n_estimators':[75, 100, 250, 500], 'max_depth':[3, 5, 10, 15]}\n",
    "model = RandomForestClassifier(class_weight='balanced', n_jobs=-1)\n",
    "clf = RandomizedSearchCV(model, param_distributions=params, cv=5, scoring='f1', random_state=42, n_jobs=-1, return_train_score=True)\n",
    "clf.fit(x_train, y_train)\n",
    "print('Best parameters:  {}'.format(clf.best_params_))\n",
    "print('Best score: {}'.format(clf.best_score_))"
   ]
  },
  {
   "cell_type": "code",
   "execution_count": 66,
   "metadata": {},
   "outputs": [
    {
     "name": "stdout",
     "output_type": "stream",
     "text": [
      "**************************************************\n",
      "Train AUC: 0.832\n",
      "val AUC: 0.742\n",
      "**************************************************\n",
      "Train F1 score: 0.345\n",
      "val F1 score: 0.276\n"
     ]
    },
    {
     "data": {
      "image/png": "[encoded data removed]",
      "text/plain": [
       "<Figure size 432x288 with 1 Axes>"
      ]
     },
     "metadata": {
      "needs_background": "light"
     },
     "output_type": "display_data"
    }
   ],
   "source": [
    "model = RandomForestClassifier(n_estimators=500, max_depth=10, class_weight='balanced', n_jobs=-1)\n",
    "model.fit(x_train, y_train)\n",
    "y_probs_train = model.predict_proba(x_train)\n",
    "y_probs_val = model.predict_proba(x_val)\n",
    "y_predicted_train = model.predict(x_train)\n",
    "y_predicted_val = model.predict(x_val)\n",
    "\n",
    "# keep probabilities for the positive outcome only\n",
    "y_probs_train = y_probs_train[:, 1]\n",
    "y_probs_val = y_probs_val[:, 1]\n",
    "\n",
    "# calculate AUC and Accuracy\n",
    "train_auc = roc_auc_score(y_train, y_probs_train)\n",
    "val_auc = roc_auc_score(y_val, y_probs_val)\n",
    "train_f1 = f1_score(y_train, y_predicted_train)\n",
    "val_f1 = f1_score(y_val, y_predicted_val)\n",
    "print('*'*50)\n",
    "print('Train AUC: %.3f' % train_auc)\n",
    "print('val AUC: %.3f' % val_auc)\n",
    "print('*'*50)\n",
    "print('Train F1 score: %.3f' % train_f1)\n",
    "print('val F1 score: %.3f' % val_f1)\n",
    "\n",
    "score['Random Forest'] = [val_auc, val_f1]\n",
    "\n",
    "# calculate roc curve\n",
    "train_fpr, train_tpr, train_thresholds = roc_curve(y_train, y_probs_train)\n",
    "val_fpr, val_tpr, val_thresholds = roc_curve(y_val, y_probs_val)\n",
    "plt.plot([0, 1], [0, 1], linestyle='--')\n",
    "# plot the roc curve for the model\n",
    "plt.plot(train_fpr, train_tpr, marker='.', label='Train AUC')\n",
    "plt.plot(val_fpr, val_tpr, marker='.', label='val AUC')\n",
    "plt.legend()\n",
    "plt.xlabel(\"False Positive Rate\")\n",
    "plt.ylabel(\"True Positive Rate\")\n",
    "plt.title(\"ROC Curve\")\n",
    "plt.show()\n"
   ]
  },
  {
   "cell_type": "markdown",
   "metadata": {
    "colab_type": "text",
    "id": "aUgXp0Lx8Dl6"
   },
   "source": [
    "<h3> SVM </h3>"
   ]
  },
  {
   "cell_type": "markdown",
   "metadata": {
    "colab_type": "text",
    "id": "dOsgkFUe8Dl7"
   },
   "source": [
    "<h4> Hyperparameter tuning  SVM </h4>"
   ]
  },
  {
   "cell_type": "code",
   "execution_count": 67,
   "metadata": {},
   "outputs": [
    {
     "name": "stdout",
     "output_type": "stream",
     "text": [
      "Best parameters:  {'alpha': 0.01}\n",
      "Best score: 0.15916498942999105\n"
     ]
    }
   ],
   "source": [
    "from sklearn.linear_model import SGDClassifier\n",
    "params = {'alpha': [10**i for i in range(-4, 5)]}\n",
    "\n",
    "model = SGDClassifier(loss='hinge', penalty='l2',max_iter=1000,class_weight='balanced', n_jobs=-1)\n",
    "clf = RandomizedSearchCV(model, param_distributions=params, cv=5, scoring='f1', random_state=42, n_jobs=-1, return_train_score=True)\n",
    "clf.fit(x_new, y_train)\n",
    "print('Best parameters:  {}'.format(clf.best_params_))\n",
    "print('Best score: {}'.format(clf.best_score_))"
   ]
  },
  {
   "cell_type": "markdown",
   "metadata": {
    "colab_type": "text",
    "id": "lNp2q3JV8DmA"
   },
   "source": [
    "<h4> Training SVM with best hyperparameters </h4>"
   ]
  },
  {
   "cell_type": "code",
   "execution_count": 68,
   "metadata": {
    "colab": {
     "base_uri": "https://localhost:8080/",
     "height": 393
    },
    "colab_type": "code",
    "id": "O6Ge6mQ-8DmC",
    "outputId": "4c7a170b-e789-44df-d7e5-babf89e2a6fa"
   },
   "outputs": [
    {
     "name": "stdout",
     "output_type": "stream",
     "text": [
      "**************************************************\n",
      "Train AUC: 0.531\n",
      "val AUC: 0.527\n",
      "**************************************************\n",
      "Train F1 score: 0.157\n",
      "val F1 score: 0.153\n"
     ]
    },
    {
     "data": {
      "image/png": "[encoded data removed]",
      "text/plain": [
       "<Figure size 432x288 with 1 Axes>"
      ]
     },
     "metadata": {
      "needs_background": "light"
     },
     "output_type": "display_data"
    }
   ],
   "source": [
    "model = SGDClassifier(alpha=10, class_weight='balanced', n_jobs=-1)\n",
    "model.fit(x_new, y_train)\n",
    "y_probs_train = model.predict(x_new)\n",
    "y_probs_val = model.predict(x_val_new)\n",
    "y_predicted_train = model.predict(x_new)\n",
    "y_predicted_val = model.predict(x_val_new)\n",
    "\n",
    "# calculate AUC and Accuracy\n",
    "train_auc = roc_auc_score(y_train, y_probs_train)\n",
    "val_auc = roc_auc_score(y_val, y_probs_val)\n",
    "train_f1 = f1_score(y_train, y_predicted_train)\n",
    "val_f1 = f1_score(y_val, y_predicted_val)\n",
    "print('*'*50)\n",
    "print('Train AUC: %.3f' % train_auc)\n",
    "print('val AUC: %.3f' % val_auc)\n",
    "print('*'*50)\n",
    "print('Train F1 score: %.3f' % train_f1)\n",
    "print('val F1 score: %.3f' % val_f1)\n",
    "\n",
    "score['SVM'] = [val_auc, val_f1]\n",
    "\n",
    "# calculate roc curve\n",
    "train_fpr, train_tpr, train_thresholds = roc_curve(y_train, y_probs_train)\n",
    "val_fpr, val_tpr, val_thresholds = roc_curve(y_val, y_probs_val)\n",
    "plt.plot([0, 1], [0, 1], linestyle='--')\n",
    "# plot the roc curve for the model\n",
    "plt.plot(train_fpr, train_tpr, marker='.', label='Train AUC')\n",
    "plt.plot(val_fpr, val_tpr, marker='.', label='val AUC')\n",
    "plt.legend()\n",
    "plt.xlabel(\"False Positive Rate\")\n",
    "plt.ylabel(\"True Positive Rate\")\n",
    "plt.title(\"ROC Curve\")\n",
    "plt.show()\n"
   ]
  },
  {
   "cell_type": "markdown",
   "metadata": {
    "colab_type": "text",
    "id": "sVxMomKt8DmF"
   },
   "source": [
    "<h4> Train Confusion Matrix </h4>"
   ]
  },
  {
   "cell_type": "code",
   "execution_count": 69,
   "metadata": {
    "colab": {
     "base_uri": "https://localhost:8080/",
     "height": 493
    },
    "colab_type": "code",
    "id": "orTuK6Cp8DmH",
    "outputId": "ddfc0584-81fa-4f32-9524-d1d7bb5f4110"
   },
   "outputs": [
    {
     "name": "stdout",
     "output_type": "stream",
     "text": [
      "Confusion matrix:\n",
      " [[ 72902 124905]\n",
      " [  5345  12102]]\n"
     ]
    },
    {
     "data": {
      "text/plain": [
       "<matplotlib.axes._subplots.AxesSubplot at 0x1feeb8f65c8>"
      ]
     },
     "execution_count": 69,
     "metadata": {},
     "output_type": "execute_result"
    },
    {
     "data": {
      "image/png": "[encoded data removed]",
      "text/plain": [
       "<Figure size 720x504 with 2 Axes>"
      ]
     },
     "metadata": {
      "needs_background": "light"
     },
     "output_type": "display_data"
    }
   ],
   "source": [
    "from sklearn.metrics import confusion_matrix\n",
    "\n",
    "cma = confusion_matrix(y_train, y_predicted_train)\n",
    "print('Confusion matrix:\\n', cma)\n",
    "df_cm = pd.DataFrame(cma, range(2), columns=range(2))\n",
    "plt.figure(figsize = (10,7))\n",
    "sns.heatmap(df_cm, annot=True,annot_kws={\"size\": 16}, fmt='g')"
   ]
  },
  {
   "cell_type": "markdown",
   "metadata": {
    "colab_type": "text",
    "id": "vboYxtGQ8DmJ"
   },
   "source": [
    "<h4> Validation Confusion Matrix </h4>"
   ]
  },
  {
   "cell_type": "code",
   "execution_count": 70,
   "metadata": {
    "colab": {
     "base_uri": "https://localhost:8080/",
     "height": 493
    },
    "colab_type": "code",
    "id": "TDWe5GIx8DmK",
    "outputId": "da7651d8-38d1-4a33-de07-24eb6b6de86f"
   },
   "outputs": [
    {
     "name": "stdout",
     "output_type": "stream",
     "text": [
      "Confusion matrix:\n",
      " [[31311 53564]\n",
      " [ 2319  5059]]\n"
     ]
    },
    {
     "data": {
      "text/plain": [
       "<matplotlib.axes._subplots.AxesSubplot at 0x1feeb7618c8>"
      ]
     },
     "execution_count": 70,
     "metadata": {},
     "output_type": "execute_result"
    },
    {
     "data": {
      "image/png": "[encoded data removed]",
      "text/plain": [
       "<Figure size 720x504 with 2 Axes>"
      ]
     },
     "metadata": {
      "needs_background": "light"
     },
     "output_type": "display_data"
    }
   ],
   "source": [
    "from sklearn.metrics import confusion_matrix\n",
    "\n",
    "cma = confusion_matrix(y_val, y_predicted_val)\n",
    "print('Confusion matrix:\\n', cma)\n",
    "df_cm = pd.DataFrame(cma, range(2), columns=range(2))\n",
    "plt.figure(figsize = (10,7))\n",
    "sns.heatmap(df_cm, annot=True,annot_kws={\"size\": 16}, fmt='g')"
   ]
  },
  {
   "cell_type": "markdown",
   "metadata": {},
   "source": [
    "## SVM with all Feature"
   ]
  },
  {
   "cell_type": "code",
   "execution_count": 71,
   "metadata": {},
   "outputs": [
    {
     "name": "stdout",
     "output_type": "stream",
     "text": [
      "Best parameters:  {'alpha': 0.1}\n",
      "Best score: 0.15133211897746202\n"
     ]
    }
   ],
   "source": [
    "from sklearn.linear_model import SGDClassifier\n",
    "params = {'alpha': [10**i for i in range(-4, 5)]}\n",
    "\n",
    "model = SGDClassifier(loss='hinge', penalty='l2',max_iter=1000,class_weight='balanced', n_jobs=-1)\n",
    "clf = RandomizedSearchCV(model, param_distributions=params, cv=5, scoring='f1', random_state=42, n_jobs=-1, return_train_score=True)\n",
    "clf.fit(x_train, y_train)\n",
    "print('Best parameters:  {}'.format(clf.best_params_))\n",
    "print('Best score: {}'.format(clf.best_score_))"
   ]
  },
  {
   "cell_type": "code",
   "execution_count": 75,
   "metadata": {},
   "outputs": [
    {
     "name": "stdout",
     "output_type": "stream",
     "text": [
      "**************************************************\n",
      "Train AUC: 0.577\n",
      "val AUC: 0.580\n",
      "**************************************************\n",
      "Train F1 score: 0.181\n",
      "val F1 score: 0.180\n"
     ]
    },
    {
     "data": {
      "image/png": "[encoded data removed]",
      "text/plain": [
       "<Figure size 432x288 with 1 Axes>"
      ]
     },
     "metadata": {
      "needs_background": "light"
     },
     "output_type": "display_data"
    }
   ],
   "source": [
    "model = SGDClassifier(alpha=10, class_weight='balanced', n_jobs=-1)\n",
    "model.fit(x_train, y_train)\n",
    "y_probs_train = model.predict(x_train)\n",
    "y_probs_val = model.predict(x_val)\n",
    "y_predicted_train = model.predict(x_train)\n",
    "y_predicted_val = model.predict(x_val)\n",
    "\n",
    "# calculate AUC and Accuracy\n",
    "train_auc = roc_auc_score(y_train, y_probs_train)\n",
    "val_auc = roc_auc_score(y_val, y_probs_val)\n",
    "train_f1 = f1_score(y_train, y_predicted_train)\n",
    "val_f1 = f1_score(y_val, y_predicted_val)\n",
    "print('*'*50)\n",
    "print('Train AUC: %.3f' % train_auc)\n",
    "print('val AUC: %.3f' % val_auc)\n",
    "print('*'*50)\n",
    "print('Train F1 score: %.3f' % train_f1)\n",
    "print('val F1 score: %.3f' % val_f1)\n",
    "\n",
    "score['SVM'] = [val_auc, val_f1]\n",
    "\n",
    "# calculate roc curve\n",
    "train_fpr, train_tpr, train_thresholds = roc_curve(y_train, y_probs_train)\n",
    "val_fpr, val_tpr, val_thresholds = roc_curve(y_val, y_probs_val)\n",
    "plt.plot([0, 1], [0, 1], linestyle='--')\n",
    "# plot the roc curve for the model\n",
    "plt.plot(train_fpr, train_tpr, marker='.', label='Train AUC')\n",
    "plt.plot(val_fpr, val_tpr, marker='.', label='val AUC')\n",
    "plt.legend()\n",
    "plt.xlabel(\"False Positive Rate\")\n",
    "plt.ylabel(\"True Positive Rate\")\n",
    "plt.title(\"ROC Curve\")\n",
    "plt.show()\n"
   ]
  },
  {
   "cell_type": "markdown",
   "metadata": {
    "colab_type": "text",
    "id": "izJsdB_D8DmO"
   },
   "source": [
    "<h3> XGBoost </h3>"
   ]
  },
  {
   "cell_type": "markdown",
   "metadata": {
    "colab_type": "text",
    "id": "KzYhekJD8DmP"
   },
   "source": [
    "<h4> Hyperparameter tuning XGBClassifier </h4>"
   ]
  },
  {
   "cell_type": "code",
   "execution_count": 76,
   "metadata": {
    "colab": {},
    "colab_type": "code",
    "id": "q0LYFOp78DmQ",
    "outputId": "bc96cee0-2679-478f-b3ca-9741ad2936d8"
   },
   "outputs": [
    {
     "name": "stdout",
     "output_type": "stream",
     "text": [
      "Best parameters:  {'n_estimators': 500, 'max_depth': 5}\n",
      "Best score: 0.08293063278559096\n"
     ]
    }
   ],
   "source": [
    "from xgboost import XGBClassifier\n",
    "from sklearn.model_selection import RandomizedSearchCV\n",
    "params = {'max_depth': [3, 5, 10], 'n_estimators': [10, 100, 500]}\n",
    "\n",
    "model = XGBClassifier(class_weight='balanced', n_jobs=-1)\n",
    "clf = RandomizedSearchCV(model, param_distributions=params, cv=5, scoring='f1', random_state=42, n_jobs=-1, return_train_score=True)\n",
    "clf.fit(x_new, y_train)\n",
    "print('Best parameters:  {}'.format(clf.best_params_))\n",
    "print('Best score: {}'.format(clf.best_score_))"
   ]
  },
  {
   "cell_type": "markdown",
   "metadata": {
    "colab_type": "text",
    "id": "f32VSSmv8DmU"
   },
   "source": [
    "<h4> Training XGBClassifier with best hyperparameters </h4>"
   ]
  },
  {
   "cell_type": "code",
   "execution_count": 82,
   "metadata": {
    "colab": {},
    "colab_type": "code",
    "id": "wNZtTRRD8DmX",
    "outputId": "ddfbe3fd-f3e2-4377-8cef-f79bf93a9abb"
   },
   "outputs": [
    {
     "name": "stdout",
     "output_type": "stream",
     "text": [
      "**************************************************\n",
      "Train AUC: 0.825\n",
      "val AUC: 0.753\n",
      "**************************************************\n",
      "Train F1 score: 0.111\n",
      "val F1 score: 0.074\n"
     ]
    },
    {
     "data": {
      "image/png": "[encoded data removed]",
      "text/plain": [
       "<Figure size 432x288 with 1 Axes>"
      ]
     },
     "metadata": {
      "needs_background": "light"
     },
     "output_type": "display_data"
    }
   ],
   "source": [
    "from xgboost import XGBClassifier\n",
    "from sklearn.metrics import f1_score\n",
    "from sklearn.metrics import roc_curve\n",
    "from sklearn.metrics import accuracy_score\n",
    "model = XGBClassifier(max_depth=3, n_estimators=500 ,class_weight='balanced', n_jobs=-1)\n",
    "model.fit(x_new, y_train)\n",
    "y_probs_train = model.predict_proba(x_new)\n",
    "y_probs_val = model.predict_proba(x_val_new)\n",
    "y_predicted_train = model.predict(x_new)\n",
    "y_predicted_val = model.predict(x_val_new)\n",
    "\n",
    "# keep probabilities for the positive outcome only\n",
    "y_probs_train = y_probs_train[:, 1]\n",
    "y_probs_val = y_probs_val[:, 1]\n",
    "\n",
    "# calculate AUC and Accuracy\n",
    "train_auc = roc_auc_score(y_train, y_probs_train)\n",
    "val_auc = roc_auc_score(y_val, y_probs_val)\n",
    "train_f1 = f1_score(y_train, y_predicted_train)\n",
    "val_f1 = f1_score(y_val, y_predicted_val)\n",
    "print('*'*50)\n",
    "print('Train AUC: %.3f' % train_auc)\n",
    "print('val AUC: %.3f' % val_auc)\n",
    "print('*'*50)\n",
    "print('Train F1 score: %.3f' % train_f1)\n",
    "print('val F1 score: %.3f' % val_f1)\n",
    "\n",
    "score['XGBoost'] = [val_auc, val_f1]\n",
    "\n",
    "# calculate roc curve\n",
    "train_fpr, train_tpr, train_thresholds = roc_curve(y_train, y_probs_train)\n",
    "val_fpr, val_tpr, val_thresholds = roc_curve(y_val, y_probs_val)\n",
    "plt.plot([0, 1], [0, 1], linestyle='--')\n",
    "# plot the roc curve for the model\n",
    "plt.plot(train_fpr, train_tpr, marker='.', label='Train AUC')\n",
    "plt.plot(val_fpr, val_tpr, marker='.', label='val AUC')\n",
    "plt.legend()\n",
    "plt.xlabel(\"False Positive Rate\")\n",
    "plt.ylabel(\"True Positive Rate\")\n",
    "plt.title(\"ROC Curve\")\n",
    "plt.show()"
   ]
  },
  {
   "cell_type": "markdown",
   "metadata": {
    "colab_type": "text",
    "id": "OycG1tw58Dma"
   },
   "source": [
    "<h4> Train Confusion Matrix </h4>"
   ]
  },
  {
   "cell_type": "code",
   "execution_count": 78,
   "metadata": {
    "colab": {},
    "colab_type": "code",
    "id": "2uIdmJ7n8Dmb",
    "outputId": "d8576535-2291-4f97-dc4a-6e48ab21b14b"
   },
   "outputs": [
    {
     "name": "stdout",
     "output_type": "stream",
     "text": [
      "Confusion matrix:\n",
      " [[197662    145]\n",
      " [ 13801   3646]]\n"
     ]
    },
    {
     "data": {
      "text/plain": [
       "<matplotlib.axes._subplots.AxesSubplot at 0x1feeba77b88>"
      ]
     },
     "execution_count": 78,
     "metadata": {},
     "output_type": "execute_result"
    },
    {
     "data": {
      "image/png": "[encoded data removed]",
      "text/plain": [
       "<Figure size 720x504 with 2 Axes>"
      ]
     },
     "metadata": {
      "needs_background": "light"
     },
     "output_type": "display_data"
    }
   ],
   "source": [
    "from sklearn.metrics import confusion_matrix\n",
    "\n",
    "cma = confusion_matrix(y_train, y_predicted_train)\n",
    "print('Confusion matrix:\\n', cma)\n",
    "df_cm = pd.DataFrame(cma, range(2), columns=range(2))\n",
    "plt.figure(figsize = (10,7))\n",
    "sns.heatmap(df_cm, annot=True,annot_kws={\"size\": 16}, fmt='g')"
   ]
  },
  {
   "cell_type": "markdown",
   "metadata": {
    "colab_type": "text",
    "id": "t8lGVtEw8Dmf"
   },
   "source": [
    "<h4> Validation Confusion Matrix </h4>"
   ]
  },
  {
   "cell_type": "code",
   "execution_count": 79,
   "metadata": {
    "colab": {},
    "colab_type": "code",
    "id": "xOuxtEEo8Dmg",
    "outputId": "43432faa-05f9-4658-9e7c-ba0a6e5b2415"
   },
   "outputs": [
    {
     "name": "stdout",
     "output_type": "stream",
     "text": [
      "Confusion matrix:\n",
      " [[84354   521]\n",
      " [ 7022   356]]\n"
     ]
    },
    {
     "data": {
      "text/plain": [
       "<matplotlib.axes._subplots.AxesSubplot at 0x1feeb804408>"
      ]
     },
     "execution_count": 79,
     "metadata": {},
     "output_type": "execute_result"
    },
    {
     "data": {
      "image/png": "[encoded data removed]",
      "text/plain": [
       "<Figure size 720x504 with 2 Axes>"
      ]
     },
     "metadata": {
      "needs_background": "light"
     },
     "output_type": "display_data"
    }
   ],
   "source": [
    "from sklearn.metrics import confusion_matrix\n",
    "\n",
    "cma = confusion_matrix(y_val, y_predicted_val)\n",
    "print('Confusion matrix:\\n', cma)\n",
    "df_cm = pd.DataFrame(cma, range(2), columns=range(2))\n",
    "plt.figure(figsize = (10,7))\n",
    "sns.heatmap(df_cm, annot=True,annot_kws={\"size\": 16}, fmt='g')"
   ]
  },
  {
   "cell_type": "markdown",
   "metadata": {},
   "source": [
    "## XGBOOST with all features"
   ]
  },
  {
   "cell_type": "code",
   "execution_count": 80,
   "metadata": {},
   "outputs": [
    {
     "name": "stdout",
     "output_type": "stream",
     "text": [
      "Best parameters:  {'n_estimators': 500, 'max_depth': 5}\n",
      "Best score: 0.11350541155893837\n"
     ]
    }
   ],
   "source": [
    "from xgboost import XGBClassifier\n",
    "from sklearn.model_selection import RandomizedSearchCV\n",
    "params = {'max_depth': [3, 5, 10], 'n_estimators': [10, 100, 500]}\n",
    "\n",
    "model = XGBClassifier(class_weight='balanced', n_jobs=-1)\n",
    "clf = RandomizedSearchCV(model, param_distributions=params, cv=5, scoring='f1', random_state=42, n_jobs=-1, return_train_score=True)\n",
    "clf.fit(x_train, y_train)\n",
    "print('Best parameters:  {}'.format(clf.best_params_))\n",
    "print('Best score: {}'.format(clf.best_score_))"
   ]
  },
  {
   "cell_type": "code",
   "execution_count": 84,
   "metadata": {},
   "outputs": [
    {
     "name": "stdout",
     "output_type": "stream",
     "text": [
      "**************************************************\n",
      "Train AUC: 0.846\n",
      "val AUC: 0.767\n",
      "**************************************************\n",
      "Train F1 score: 0.156\n",
      "val F1 score: 0.093\n"
     ]
    },
    {
     "data": {
      "image/png": "[encoded data removed]",
      "text/plain": [
       "<Figure size 432x288 with 1 Axes>"
      ]
     },
     "metadata": {
      "needs_background": "light"
     },
     "output_type": "display_data"
    }
   ],
   "source": [
    "from xgboost import XGBClassifier\n",
    "from sklearn.metrics import f1_score\n",
    "from sklearn.metrics import roc_curve\n",
    "from sklearn.metrics import accuracy_score\n",
    "model = XGBClassifier(max_depth=3, n_estimators=500 ,class_weight='balanced', n_jobs=-1)\n",
    "model.fit(x_train, y_train)\n",
    "y_probs_train = model.predict_proba(x_train)\n",
    "y_probs_val = model.predict_proba(x_val)\n",
    "y_predicted_train = model.predict(x_train)\n",
    "y_predicted_val = model.predict(x_val)\n",
    "\n",
    "# keep probabilities for the positive outcome only\n",
    "y_probs_train = y_probs_train[:, 1]\n",
    "y_probs_val = y_probs_val[:, 1]\n",
    "\n",
    "# calculate AUC and Accuracy\n",
    "train_auc = roc_auc_score(y_train, y_probs_train)\n",
    "val_auc = roc_auc_score(y_val, y_probs_val)\n",
    "train_f1 = f1_score(y_train, y_predicted_train)\n",
    "val_f1 = f1_score(y_val, y_predicted_val)\n",
    "print('*'*50)\n",
    "print('Train AUC: %.3f' % train_auc)\n",
    "print('val AUC: %.3f' % val_auc)\n",
    "print('*'*50)\n",
    "print('Train F1 score: %.3f' % train_f1)\n",
    "print('val F1 score: %.3f' % val_f1)\n",
    "\n",
    "score['XGBoost'] = [val_auc, val_f1]\n",
    "\n",
    "# calculate roc curve\n",
    "train_fpr, train_tpr, train_thresholds = roc_curve(y_train, y_probs_train)\n",
    "val_fpr, val_tpr, val_thresholds = roc_curve(y_val, y_probs_val)\n",
    "plt.plot([0, 1], [0, 1], linestyle='--')\n",
    "# plot the roc curve for the model\n",
    "plt.plot(train_fpr, train_tpr, marker='.', label='Train AUC')\n",
    "plt.plot(val_fpr, val_tpr, marker='.', label='val AUC')\n",
    "plt.legend()\n",
    "plt.xlabel(\"False Positive Rate\")\n",
    "plt.ylabel(\"True Positive Rate\")\n",
    "plt.title(\"ROC Curve\")\n",
    "plt.show()"
   ]
  },
  {
   "cell_type": "markdown",
   "metadata": {},
   "source": [
    "## Stacking Classifier"
   ]
  },
  {
   "cell_type": "markdown",
   "metadata": {},
   "source": [
    "### Hyperparameter tuning meta-classifier (Logistic Regression)"
   ]
  },
  {
   "cell_type": "code",
   "execution_count": 0,
   "metadata": {
    "colab": {},
    "colab_type": "code",
    "id": "R7ZuPE6n6Xmq"
   },
   "outputs": [],
   "source": [
    "from sklearn.calibration import CalibratedClassifierCV\n",
    "from mlxtend.classifier import StackingClassifier\n",
    "from sklearn.linear_model import LogisticRegression\n",
    "from xgboost import XGBClassifier\n",
    "from sklearn.ensemble import RandomForestClassifier\n",
    "from sklearn.linear_model import SGDClassifier\n",
    "from sklearn.metrics import f1_score \n",
    "from sklearn.metrics import roc_curve\n",
    "from sklearn.metrics import accuracy_score\n",
    "\n",
    "model_1 = LogisticRegression(C=0.5, class_weight='balanced', n_jobs=-1)\n",
    "model_1.fit(x_new, y_train)\n",
    "clf_1 = CalibratedClassifierCV(model_1, method='sigmoid')\n",
    "\n",
    "model_2 = RandomForestClassifier(n_estimators=500, max_depth=5, class_weight='balanced', n_jobs=-1)\n",
    "model_2.fit(x_new, y_train)\n",
    "clf_2 = CalibratedClassifierCV(model_2, method='sigmoid')\n",
    "\n",
    "model_3 = SGDClassifier(alpha=10, class_weight='balanced', n_jobs=-1)\n",
    "model_3.fit(x_new, y_train)\n",
    "clf_3 = CalibratedClassifierCV(model_3, method='sigmoid')\n",
    "\n",
    "model_4 = XGBClassifier(n_estimators= 500, max_depth= 3, class_weight='balanced', n_jobs=-1)\n",
    "model_4.fit(x_new, y_train)\n",
    "clf_4 = CalibratedClassifierCV(model_4, method='sigmoid')\n",
    "\n",
    "C = [0.001,0.01,0.1,1,10]\n",
    "roc = 0\n",
    "best_C = 0\n",
    "for i in C:\n",
    "    log_reg = LogisticRegression(C=i, n_jobs=-1)\n",
    "    model = StackingClassifier(classifiers=[clf_1, clf_2, clf_4], meta_classifier=log_reg, use_probas=True)\n",
    "    model.fit(x_new, y_train)\n",
    "    model_roc = f1_score(y_val, model.predict(x_val_new))\n",
    "    if roc < model_roc:\n",
    "        roc = model_roc\n",
    "        best_C = i"
   ]
  },
  {
   "cell_type": "code",
   "execution_count": 0,
   "metadata": {
    "colab": {
     "base_uri": "https://localhost:8080/",
     "height": 397
    },
    "colab_type": "code",
    "id": "A87FyVTi6Xmx",
    "outputId": "f7419179-d3ba-48be-9bfd-023bea47adce"
   },
   "outputs": [
    {
     "name": "stdout",
     "output_type": "stream",
     "text": [
      "**************************************************\n",
      "Train AUC: 0.761\n",
      "val AUC: 0.742\n",
      "**************************************************\n",
      "Train F1 score: 0.143\n",
      "val F1 score: 0.119\n"
     ]
    },
    {
     "data": {
      "image/png": "[encoded data removed]",
      "text/plain": [
       "<Figure size 432x288 with 1 Axes>"
      ]
     },
     "metadata": {
      "needs_background": "light",
      "tags": []
     },
     "output_type": "display_data"
    }
   ],
   "source": [
    "from mlxtend.classifier import StackingClassifier\n",
    "\n",
    "log_reg = LogisticRegression(C=0.001, n_jobs=-1)\n",
    "stack_clf = StackingClassifier(classifiers=[clf_1, clf_2, clf_4], meta_classifier=log_reg, use_probas=True)\n",
    "model.fit(x_new, y_train)\n",
    "y_probs_train = model.predict_proba(x_new)\n",
    "y_probs_val = model.predict_proba(x_val_new)\n",
    "y_predicted_train = model.predict(x_new)\n",
    "y_predicted_val = model.predict(x_val_new)\n",
    "\n",
    "# keep probabilities for the positive outcome only\n",
    "y_probs_train = y_probs_train[:, 1]\n",
    "y_probs_val = y_probs_val[:, 1]\n",
    "\n",
    "# calculate AUC and Accuracy\n",
    "train_auc = roc_auc_score(y_train, y_probs_train)\n",
    "val_auc = roc_auc_score(y_val, y_probs_val)\n",
    "train_f1 = f1_score(y_train, y_predicted_train)\n",
    "val_f1 = f1_score(y_val, y_predicted_val)\n",
    "print('*'*50)\n",
    "print('Train AUC: %.3f' % train_auc)\n",
    "print('val AUC: %.3f' % val_auc)\n",
    "print('*'*50)\n",
    "print('Train F1 score: %.3f' % train_f1)\n",
    "print('val F1 score: %.3f' % val_f1)\n",
    "\n",
    "score['Stacking Classifier'] = [val_auc, val_f1]\n",
    "\n",
    "# calculate roc curve\n",
    "train_fpr, train_tpr, train_thresholds = roc_curve(y_train, y_probs_train)\n",
    "val_fpr, val_tpr, val_thresholds = roc_curve(y_val, y_probs_val)\n",
    "plt.plot([0, 1], [0, 1], linestyle='--')\n",
    "# plot the roc curve for the stack_clf\n",
    "plt.plot(train_fpr, train_tpr, marker='.', label='Train AUC')\n",
    "plt.plot(val_fpr, val_tpr, marker='.', label='val AUC')\n",
    "plt.legend()\n",
    "plt.xlabel(\"False Positive Rate\")\n",
    "plt.ylabel(\"True Positive Rate\")\n",
    "plt.title(\"ROC Curve\")\n",
    "plt.show()"
   ]
  },
  {
   "cell_type": "markdown",
   "metadata": {
    "colab_type": "text",
    "id": "j-jviwon8DnH"
   },
   "source": [
    "<h4> Train Confusion Matrix </h4>"
   ]
  },
  {
   "cell_type": "code",
   "execution_count": 30,
   "metadata": {
    "colab": {},
    "colab_type": "code",
    "id": "MRhnlClM8DnH",
    "outputId": "54308bc5-fd4c-4200-a573-ab36ddb671d5"
   },
   "outputs": [
    {
     "name": "stdout",
     "output_type": "stream",
     "text": [
      "Confusion matrix:\n",
      " [[196316   1491]\n",
      " [  4890  12557]]\n"
     ]
    },
    {
     "data": {
      "text/plain": [
       "<matplotlib.axes._subplots.AxesSubplot at 0x203ef754408>"
      ]
     },
     "execution_count": 30,
     "metadata": {},
     "output_type": "execute_result"
    },
    {
     "data": {
      "image/png": "[encoded data removed]",
      "text/plain": [
       "<Figure size 720x504 with 2 Axes>"
      ]
     },
     "metadata": {
      "needs_background": "light"
     },
     "output_type": "display_data"
    }
   ],
   "source": [
    "from sklearn.metrics import confusion_matrix\n",
    "\n",
    "cma = confusion_matrix(y_train, y_predicted_train)\n",
    "print('Confusion matrix:\\n', cma)\n",
    "df_cm = pd.DataFrame(cma, range(2), columns=range(2))\n",
    "plt.figure(figsize = (10,7))\n",
    "sns.heatmap(df_cm, annot=True,annot_kws={\"size\": 16}, fmt='g')"
   ]
  },
  {
   "cell_type": "markdown",
   "metadata": {
    "colab_type": "text",
    "id": "ALFyJH3B8Dnb"
   },
   "source": [
    "<h4> Test Confusion Matrix </h4>"
   ]
  },
  {
   "cell_type": "code",
   "execution_count": 31,
   "metadata": {
    "colab": {},
    "colab_type": "code",
    "id": "cW05V2vT8Dnb",
    "outputId": "a13de38b-ed88-4fdf-ecd0-f2778c9f05ac"
   },
   "outputs": [
    {
     "name": "stdout",
     "output_type": "stream",
     "text": [
      "Confusion matrix:\n",
      " [[82646  2229]\n",
      " [ 6561   817]]\n"
     ]
    },
    {
     "data": {
      "text/plain": [
       "<matplotlib.axes._subplots.AxesSubplot at 0x203b73d06c8>"
      ]
     },
     "execution_count": 31,
     "metadata": {},
     "output_type": "execute_result"
    },
    {
     "data": {
      "image/png": "[encoded data removed]",
      "text/plain": [
       "<Figure size 720x504 with 2 Axes>"
      ]
     },
     "metadata": {
      "needs_background": "light"
     },
     "output_type": "display_data"
    }
   ],
   "source": [
    "from sklearn.metrics import confusion_matrix\n",
    "\n",
    "cma = confusion_matrix(y_val, y_predicted_val)\n",
    "print('Confusion matrix:\\n', cma)\n",
    "df_cm = pd.DataFrame(cma, range(2), columns=range(2))\n",
    "plt.figure(figsize = (10,7))\n",
    "sns.heatmap(df_cm, annot=True,annot_kws={\"size\": 16}, fmt='g')"
   ]
  },
  {
   "cell_type": "markdown",
   "metadata": {},
   "source": [
    "#### Stacking classifier with all the feature"
   ]
  },
  {
   "cell_type": "code",
   "execution_count": 0,
   "metadata": {
    "colab": {},
    "colab_type": "code",
    "id": "qc0CijwJ6Xm1"
   },
   "outputs": [],
   "source": [
    "from sklearn.calibration import CalibratedClassifierCV\n",
    "from mlxtend.classifier import StackingClassifier\n",
    "from sklearn.linear_model import LogisticRegression\n",
    "from xgboost import XGBClassifier\n",
    "from sklearn.ensemble import RandomForestClassifier\n",
    "\n",
    "from sklearn.linear_model import SGDClassifier\n",
    "from sklearn.metrics import f1_score \n",
    "from sklearn.metrics import roc_curve\n",
    "from sklearn.metrics import accuracy_score\n",
    "\n",
    "model_1 = LogisticRegression(C=0.5, class_weight='balanced', n_jobs=-1)\n",
    "model_1.fit(x_train, y_train)\n",
    "clf_1 = CalibratedClassifierCV(model_1, method='sigmoid')\n",
    "\n",
    "model_2 = RandomForestClassifier(n_estimators=500, max_depth=5, class_weight='balanced', n_jobs=-1)\n",
    "model_2.fit(x_train, y_train)\n",
    "clf_2 = CalibratedClassifierCV(model_2, method='sigmoid')\n",
    "\n",
    "model_3 = SGDClassifier(alpha=10, class_weight='balanced', n_jobs=-1)\n",
    "model_3.fit(x_train, y_train)\n",
    "clf_3 = CalibratedClassifierCV(model_3, method='sigmoid')\n",
    "\n",
    "model_4 = XGBClassifier(n_estimators= 500, max_depth= 3, class_weight='balanced', n_jobs=-1)\n",
    "model_4.fit(x_train, y_train)\n",
    "clf_4 = CalibratedClassifierCV(model_4, method='sigmoid')\n",
    "\n",
    "C = [0.001,0.01,0.1]\n",
    "roc = 0\n",
    "best_C = 0\n",
    "for i in C:\n",
    "    log_reg = LogisticRegression(C=i, n_jobs=-1)\n",
    "    model = StackingClassifier(classifiers=[clf_1, clf_2, clf_4], meta_classifier=log_reg, use_probas=True)\n",
    "    model.fit(x_train, y_train)\n",
    "    model_roc = f1_score(y_val, model.predict(x_val))\n",
    "    if roc < model_roc:\n",
    "        roc = model_roc\n",
    "        best_C = i"
   ]
  },
  {
   "cell_type": "code",
   "execution_count": 19,
   "metadata": {
    "colab": {
     "base_uri": "https://localhost:8080/",
     "height": 397
    },
    "colab_type": "code",
    "id": "3AoL_vdk6Xm6",
    "outputId": "bf7f4d46-736a-4b99-8168-227e72336ce1"
   },
   "outputs": [
    {
     "name": "stdout",
     "output_type": "stream",
     "text": [
      "**************************************************\n",
      "Train AUC: 0.783\n",
      "val AUC: 0.757\n",
      "**************************************************\n",
      "Train F1 score: 0.179\n",
      "val F1 score: 0.149\n"
     ]
    },
    {
     "data": {
      "image/png": "[encoded data removed]",
      "text/plain": [
       "<Figure size 432x288 with 1 Axes>"
      ]
     },
     "metadata": {
      "needs_background": "light",
      "tags": []
     },
     "output_type": "display_data"
    }
   ],
   "source": [
    "from mlxtend.classifier import StackingClassifier\n",
    "\n",
    "log_reg = LogisticRegression(C=0.001, n_jobs=-1)\n",
    "stack_clf = StackingClassifier(classifiers=[clf_1, clf_2, clf_4], meta_classifier=log_reg, use_probas=True)\n",
    "model.fit(x_train, y_train)\n",
    "y_probs_train = model.predict_proba(x_train)\n",
    "y_probs_val = model.predict_proba(x_val)\n",
    "y_predicted_train = model.predict(x_train)\n",
    "y_predicted_val = model.predict(x_val)\n",
    "\n",
    "# keep probabilities for the positive outcome only\n",
    "y_probs_train = y_probs_train[:, 1]\n",
    "y_probs_val = y_probs_val[:, 1]\n",
    "\n",
    "# calculate AUC and Accuracy\n",
    "train_auc = roc_auc_score(y_train, y_probs_train)\n",
    "val_auc = roc_auc_score(y_val, y_probs_val)\n",
    "train_f1 = f1_score(y_train, y_predicted_train)\n",
    "val_f1 = f1_score(y_val, y_predicted_val)\n",
    "print('*'*50)\n",
    "print('Train AUC: %.3f' % train_auc)\n",
    "print('val AUC: %.3f' % val_auc)\n",
    "print('*'*50)\n",
    "print('Train F1 score: %.3f' % train_f1)\n",
    "print('val F1 score: %.3f' % val_f1)\n",
    "\n",
    "score['Stacking Classifier'] = [val_auc, val_f1]\n",
    "\n",
    "# calculate roc curve\n",
    "train_fpr, train_tpr, train_thresholds = roc_curve(y_train, y_probs_train)\n",
    "val_fpr, val_tpr, val_thresholds = roc_curve(y_val, y_probs_val)\n",
    "plt.plot([0, 1], [0, 1], linestyle='--')\n",
    "# plot the roc curve for the stack_clf\n",
    "plt.plot(train_fpr, train_tpr, marker='.', label='Train AUC')\n",
    "plt.plot(val_fpr, val_tpr, marker='.', label='val AUC')\n",
    "plt.legend()\n",
    "plt.xlabel(\"False Positive Rate\")\n",
    "plt.ylabel(\"True Positive Rate\")\n",
    "plt.title(\"ROC Curve\")\n",
    "plt.show()"
   ]
  },
  {
   "cell_type": "markdown",
   "metadata": {},
   "source": [
    "## Voting Classifier"
   ]
  },
  {
   "cell_type": "code",
   "execution_count": 20,
   "metadata": {
    "colab": {
     "base_uri": "https://localhost:8080/",
     "height": 397
    },
    "colab_type": "code",
    "id": "fR6D57em6Xm9",
    "outputId": "519cca16-b50c-4129-89d2-8468c186a73d"
   },
   "outputs": [
    {
     "name": "stdout",
     "output_type": "stream",
     "text": [
      "**************************************************\n",
      "Train AUC: 0.740\n",
      "val AUC: 0.725\n",
      "**************************************************\n",
      "Train F1 score: 0.010\n",
      "val score: 0.010\n"
     ]
    },
    {
     "data": {
      "image/png": "[encoded data removed]",
      "text/plain": [
       "<Figure size 432x288 with 1 Axes>"
      ]
     },
     "metadata": {
      "needs_background": "light",
      "tags": []
     },
     "output_type": "display_data"
    }
   ],
   "source": [
    "from sklearn.ensemble import VotingClassifier\n",
    "model = VotingClassifier(estimators=[('log_reg', clf_1), ('rf', model_2), ('stack', stack_clf), ('xgb', model_4), ('log_reg_1', model_1)], voting='soft')\n",
    "model.fit(x_new, y_train)\n",
    "y_probs_train = model.predict_proba(x_new)\n",
    "y_probs_val = model.predict_proba(x_val_new)\n",
    "y_predicted_train = model.predict(x_new)\n",
    "y_predicted_val = model.predict(x_val_new)\n",
    "# keep probabilities for the positive outcome only\n",
    "y_probs_train = y_probs_train[:, 1]\n",
    "y_probs_val = y_probs_val[:, 1]\n",
    "\n",
    "# calculate AUC and Accuracy\n",
    "train_auc = roc_auc_score(y_train, y_probs_train)\n",
    "val_auc = roc_auc_score(y_val, y_probs_val)\n",
    "train_f1 = f1_score(y_train, y_predicted_train)\n",
    "val_f1 = f1_score(y_val, y_predicted_val)\n",
    "print('*'*50)\n",
    "print('Train AUC: %.3f' % train_auc)\n",
    "print('val AUC: %.3f' % val_auc)\n",
    "print('*'*50)\n",
    "print('Train F1 score: %.3f' % train_f1)\n",
    "print('val score: %.3f' % val_f1)\n",
    "\n",
    "score['Voting Classifier'] = [val_auc, val_f1]\n",
    "\n",
    "# calculate roc curve\n",
    "train_fpr, train_tpr, train_thresholds = roc_curve(y_train, y_probs_train)\n",
    "val_fpr, val_tpr, val_thresholds = roc_curve(y_val, y_probs_val)\n",
    "plt.plot([0, 1], [0, 1], linestyle='--')\n",
    "# plot the roc curve for the model\n",
    "plt.plot(train_fpr, train_tpr, marker='.', label='Train AUC')\n",
    "plt.plot(val_fpr, val_tpr, marker='.', label='Val AUC')\n",
    "plt.legend()\n",
    "plt.xlabel(\"False Positive Rate\")\n",
    "plt.ylabel(\"True Positive Rate\")\n",
    "plt.title(\"ROC Curve\")\n",
    "plt.show()"
   ]
  },
  {
   "cell_type": "markdown",
   "metadata": {
    "colab_type": "text",
    "id": "25ZinM_28Dnj"
   },
   "source": [
    "<h4> Train Confusion Matrix </h4>"
   ]
  },
  {
   "cell_type": "code",
   "execution_count": 34,
   "metadata": {
    "colab": {},
    "colab_type": "code",
    "id": "mFh_5P0m8Dnk",
    "outputId": "7ef4e48f-2b4c-4681-c15c-b8f98dc42136",
    "scrolled": false
   },
   "outputs": [
    {
     "name": "stdout",
     "output_type": "stream",
     "text": [
      "Confusion matrix:\n",
      " [[197807      0]\n",
      " [ 16971    476]]\n"
     ]
    },
    {
     "data": {
      "text/plain": [
       "<matplotlib.axes._subplots.AxesSubplot at 0x203ef9e32c8>"
      ]
     },
     "execution_count": 34,
     "metadata": {},
     "output_type": "execute_result"
    },
    {
     "data": {
      "image/png": "[encoded data removed]",
      "text/plain": [
       "<Figure size 720x504 with 2 Axes>"
      ]
     },
     "metadata": {
      "needs_background": "light"
     },
     "output_type": "display_data"
    }
   ],
   "source": [
    "from sklearn.metrics import confusion_matrix\n",
    "\n",
    "cma = confusion_matrix(y_train, y_predicted_train)\n",
    "print('Confusion matrix:\\n', cma)\n",
    "df_cm = pd.DataFrame(cma, range(2), columns=range(2))\n",
    "plt.figure(figsize = (10,7))\n",
    "sns.heatmap(df_cm, annot=True,annot_kws={\"size\": 16}, fmt='g')"
   ]
  },
  {
   "cell_type": "markdown",
   "metadata": {
    "colab_type": "text",
    "id": "i1HwnTvN8Dnp"
   },
   "source": [
    "<h4> Validation Confusion Matrix </h4>"
   ]
  },
  {
   "cell_type": "code",
   "execution_count": 35,
   "metadata": {
    "colab": {},
    "colab_type": "code",
    "id": "N2FElaH78Dnp",
    "outputId": "dfaa7c76-3890-43ba-a2df-c96b50a92fc7",
    "scrolled": false
   },
   "outputs": [
    {
     "name": "stdout",
     "output_type": "stream",
     "text": [
      "Confusion matrix:\n",
      " [[84865    10]\n",
      " [ 7365    13]]\n"
     ]
    },
    {
     "data": {
      "text/plain": [
       "<matplotlib.axes._subplots.AxesSubplot at 0x203f1b81b88>"
      ]
     },
     "execution_count": 35,
     "metadata": {},
     "output_type": "execute_result"
    },
    {
     "data": {
      "image/png": "[encoded data removed]",
      "text/plain": [
       "<Figure size 720x504 with 2 Axes>"
      ]
     },
     "metadata": {
      "needs_background": "light"
     },
     "output_type": "display_data"
    }
   ],
   "source": [
    "from sklearn.metrics import confusion_matrix\n",
    "\n",
    "cma = confusion_matrix(y_val, y_predicted_val)\n",
    "print('Confusion matrix:\\n', cma)\n",
    "df_cm = pd.DataFrame(cma, range(2), columns=range(2))\n",
    "plt.figure(figsize = (10,7))\n",
    "sns.heatmap(df_cm, annot=True,annot_kws={\"size\": 16}, fmt='g')"
   ]
  },
  {
   "cell_type": "markdown",
   "metadata": {},
   "source": [
    "## Voting Classfier with all the feature"
   ]
  },
  {
   "cell_type": "code",
   "execution_count": null,
   "metadata": {},
   "outputs": [],
   "source": [
    "from sklearn.metrics import confusion_matrix\n",
    "\n",
    "cma = confusion_matrix(y_train, y_predicted_train)\n",
    "print('Confusion matrix:\\n', cma)\n",
    "df_cm = pd.DataFrame(cma, range(2), columns=range(2))\n",
    "plt.figure(figsize = (10,7))\n",
    "sns.heatmap(df_cm, annot=True,annot_kws={\"size\": 16}, fmt='g')\n",
    "\n",
    "<h4> Validation Confusion Matrix </h4>\n",
    "\n",
    "from sklearn.metrics import confusion_matrix\n",
    "\n",
    "cma = confusion_matrix(y_val, y_predicted_val)\n",
    "print('Confusion matrix:\\n', cma)\n",
    "df_cm = pd.DataFrame(cma, range(2), columns=range(2))\n",
    "plt.figure(figsize = (10,7))\n",
    "sns.heatmap(df_cm, annot=True,annot_kws={\"size\": 16}, fmt='g')"
   ]
  },
  {
   "cell_type": "code",
   "execution_count": 21,
   "metadata": {
    "colab": {
     "base_uri": "https://localhost:8080/",
     "height": 397
    },
    "colab_type": "code",
    "id": "5MbvYFRt6XnA",
    "outputId": "3ad1f55f-34a1-4981-cb78-a6f6c3a2c5ab"
   },
   "outputs": [
    {
     "name": "stdout",
     "output_type": "stream",
     "text": [
      "**************************************************\n",
      "Train AUC: 0.759\n",
      "val AUC: 0.736\n",
      "**************************************************\n",
      "Train F1 score: 0.020\n",
      "val score: 0.016\n"
     ]
    },
    {
     "data": {
      "image/png": "[encoded data removed]",
      "text/plain": [
       "<Figure size 432x288 with 1 Axes>"
      ]
     },
     "metadata": {
      "needs_background": "light",
      "tags": []
     },
     "output_type": "display_data"
    }
   ],
   "source": [
    "from sklearn.ensemble import VotingClassifier\n",
    "model = VotingClassifier(estimators=[('log_reg', clf_1), ('rf', model_2), ('stack', stack_clf), ('xgb', model_4), ('log_reg_1', model_1)], voting='soft')\n",
    "model.fit(x_train, y_train)\n",
    "y_probs_train = model.predict_proba(x_train)\n",
    "y_probs_val = model.predict_proba(x_val)\n",
    "y_predicted_train = model.predict(x_train)\n",
    "y_predicted_val = model.predict(x_val)\n",
    "# keep probabilities for the positive outcome only\n",
    "y_probs_train = y_probs_train[:, 1]\n",
    "y_probs_val = y_probs_val[:, 1]\n",
    "\n",
    "# calculate AUC and Accuracy\n",
    "train_auc = roc_auc_score(y_train, y_probs_train)\n",
    "val_auc = roc_auc_score(y_val, y_probs_val)\n",
    "train_f1 = f1_score(y_train, y_predicted_train)\n",
    "val_f1 = f1_score(y_val, y_predicted_val)\n",
    "print('*'*50)\n",
    "print('Train AUC: %.3f' % train_auc)\n",
    "print('val AUC: %.3f' % val_auc)\n",
    "print('*'*50)\n",
    "print('Train F1 score: %.3f' % train_f1)\n",
    "print('val score: %.3f' % val_f1)\n",
    "\n",
    "score['Voting Classifier'] = [val_auc, val_f1]\n",
    "\n",
    "# calculate roc curve\n",
    "train_fpr, train_tpr, train_thresholds = roc_curve(y_train, y_probs_train)\n",
    "val_fpr, val_tpr, val_thresholds = roc_curve(y_val, y_probs_val)\n",
    "plt.plot([0, 1], [0, 1], linestyle='--')\n",
    "# plot the roc curve for the model\n",
    "plt.plot(train_fpr, train_tpr, marker='.', label='Train AUC')\n",
    "plt.plot(val_fpr, val_tpr, marker='.', label='Val AUC')\n",
    "plt.legend()\n",
    "plt.xlabel(\"False Positive Rate\")\n",
    "plt.ylabel(\"True Positive Rate\")\n",
    "plt.title(\"ROC Curve\")\n",
    "plt.show()"
   ]
  },
  {
   "cell_type": "markdown",
   "metadata": {},
   "source": [
    "# CATBOOST CLASSIFIER"
   ]
  },
  {
   "cell_type": "code",
   "execution_count": 13,
   "metadata": {},
   "outputs": [
    {
     "name": "stdout",
     "output_type": "stream",
     "text": [
      "0:\tlearn: 0.5888120\ttotal: 403ms\tremaining: 4m 41s\n",
      "75:\tlearn: 0.2306207\ttotal: 22.5s\tremaining: 3m 4s\n",
      "150:\tlearn: 0.2142592\ttotal: 44.5s\tremaining: 2m 41s\n",
      "225:\tlearn: 0.2004276\ttotal: 1m 7s\tremaining: 2m 20s\n",
      "300:\tlearn: 0.1872045\ttotal: 1m 29s\tremaining: 1m 58s\n",
      "375:\tlearn: 0.1758966\ttotal: 1m 51s\tremaining: 1m 35s\n",
      "450:\tlearn: 0.1648015\ttotal: 2m 13s\tremaining: 1m 13s\n",
      "525:\tlearn: 0.1552271\ttotal: 2m 34s\tremaining: 51.3s\n",
      "600:\tlearn: 0.1452851\ttotal: 2m 57s\tremaining: 29.2s\n",
      "675:\tlearn: 0.1364620\ttotal: 3m 20s\tremaining: 7.12s\n",
      "699:\tlearn: 0.1337324\ttotal: 3m 27s\tremaining: 0us\n",
      "Best parameters:  {'learning_rate': 0.1, 'l2_leaf_reg': 3, 'depth': 10}\n",
      "Best score: 0.05153715563174911\n"
     ]
    }
   ],
   "source": [
    "from catboost import CatBoostClassifier\n",
    "from sklearn.model_selection import RandomizedSearchCV\n",
    "params={ 'learning_rate': [0.03, 0.1],\n",
    "        'depth': [4, 6, 10],\n",
    "        'l2_leaf_reg': [1, 3, 5, 7, 9]\n",
    "       }\n",
    "\n",
    "model= CatBoostClassifier(iterations=700,\n",
    "                             custom_metric='AUC:hints=skip_train~false',\n",
    "                             loss_function='Logloss',\n",
    "                             random_seed = 23,\n",
    "                             bagging_temperature = 0.2,\n",
    "                             od_type='Iter',\n",
    "                             metric_period = 75,\n",
    "                             od_wait=100,verbose=None)\n",
    "\n",
    "clf = RandomizedSearchCV(model, param_distributions=params, cv=5, scoring='f1', random_state=42, n_jobs=-1, return_train_score=True)\n",
    "clf.fit(x_new, y_train)\n",
    "print('Best parameters:  {}'.format(clf.best_params_))\n",
    "print('Best score: {}'.format(clf.best_score_))"
   ]
  },
  {
   "cell_type": "code",
   "execution_count": 14,
   "metadata": {
    "scrolled": false
   },
   "outputs": [
    {
     "name": "stdout",
     "output_type": "stream",
     "text": [
      "0:\tlearn: 0.5901214\ttotal: 57.8ms\tremaining: 57.8s\n",
      "100:\tlearn: 0.2455674\ttotal: 4.46s\tremaining: 39.7s\n",
      "200:\tlearn: 0.2404814\ttotal: 8.73s\tremaining: 34.7s\n",
      "300:\tlearn: 0.2362461\ttotal: 13.2s\tremaining: 30.7s\n",
      "400:\tlearn: 0.2326141\ttotal: 18.2s\tremaining: 27.2s\n",
      "500:\tlearn: 0.2291177\ttotal: 23.7s\tremaining: 23.6s\n",
      "600:\tlearn: 0.2258677\ttotal: 29.2s\tremaining: 19.4s\n",
      "700:\tlearn: 0.2226816\ttotal: 35.6s\tremaining: 15.2s\n",
      "800:\tlearn: 0.2195475\ttotal: 41.7s\tremaining: 10.4s\n",
      "900:\tlearn: 0.2166128\ttotal: 47.9s\tremaining: 5.26s\n",
      "999:\tlearn: 0.2137774\ttotal: 53.7s\tremaining: 0us\n",
      "**************************************************\n",
      "Train AUC: 0.838\n",
      "val AUC: 0.751\n",
      "**************************************************\n",
      "Train F1 score: 0.176\n",
      "val F1 score: 0.050\n"
     ]
    },
    {
     "data": {
      "image/png": "[encoded data removed]",
      "text/plain": [
       "<Figure size 432x288 with 1 Axes>"
      ]
     },
     "metadata": {
      "needs_background": "light"
     },
     "output_type": "display_data"
    }
   ],
   "source": [
    "from sklearn.metrics import f1_score\n",
    "from sklearn.metrics import roc_curve\n",
    "from sklearn.metrics import accuracy_score\n",
    "model = CatBoostClassifier(max_depth=6, learning_rate=0.1,verbose=None,metric_period=100)\n",
    "model.fit(x_new, y_train)\n",
    "y_probs_train = model.predict_proba(x_new)\n",
    "y_probs_val = model.predict_proba(x_val_new)\n",
    "y_predicted_train = model.predict(x_new)\n",
    "y_predicted_val = model.predict(x_val_new)\n",
    "\n",
    "# keep probabilities for the positive outcome only\n",
    "y_probs_train = y_probs_train[:, 1]\n",
    "y_probs_val = y_probs_val[:, 1]\n",
    "\n",
    "# calculate AUC and Accuracy\n",
    "train_auc = roc_auc_score(y_train, y_probs_train)\n",
    "val_auc = roc_auc_score(y_val, y_probs_val)\n",
    "train_f1 = f1_score(y_train, y_predicted_train)\n",
    "val_f1 = f1_score(y_val, y_predicted_val)\n",
    "print('*'*50)\n",
    "print('Train AUC: %.3f' % train_auc)\n",
    "print('val AUC: %.3f' % val_auc)\n",
    "print('*'*50)\n",
    "print('Train F1 score: %.3f' % train_f1)\n",
    "print('val F1 score: %.3f' % val_f1)\n",
    "\n",
    "score['XGBoost'] = [val_auc, val_f1]\n",
    "\n",
    "# calculate roc curve\n",
    "train_fpr, train_tpr, train_thresholds = roc_curve(y_train, y_probs_train)\n",
    "val_fpr, val_tpr, val_thresholds = roc_curve(y_val, y_probs_val)\n",
    "plt.plot([0, 1], [0, 1], linestyle='--')\n",
    "# plot the roc curve for the model\n",
    "plt.plot(train_fpr, train_tpr, marker='.', label='Train AUC')\n",
    "plt.plot(val_fpr, val_tpr, marker='.', label='val AUC')\n",
    "plt.legend()\n",
    "plt.xlabel(\"False Positive Rate\")\n",
    "plt.ylabel(\"True Positive Rate\")\n",
    "plt.title(\"ROC Curve\")\n",
    "plt.show()"
   ]
  },
  {
   "cell_type": "markdown",
   "metadata": {
    "colab_type": "text",
    "id": "25ZinM_28Dnj"
   },
   "source": [
    "<h4> Train Confusion Matrix </h4>"
   ]
  },
  {
   "cell_type": "code",
   "execution_count": 38,
   "metadata": {
    "colab": {},
    "colab_type": "code",
    "id": "mFh_5P0m8Dnk",
    "outputId": "7ef4e48f-2b4c-4681-c15c-b8f98dc42136",
    "scrolled": false
   },
   "outputs": [
    {
     "name": "stdout",
     "output_type": "stream",
     "text": [
      "Confusion matrix:\n",
      " [[197767     40]\n",
      " [ 16446   1001]]\n"
     ]
    },
    {
     "data": {
      "text/plain": [
       "<matplotlib.axes._subplots.AxesSubplot at 0x203f204b148>"
      ]
     },
     "execution_count": 38,
     "metadata": {},
     "output_type": "execute_result"
    },
    {
     "data": {
      "image/png": "[encoded data removed]",
      "text/plain": [
       "<Figure size 720x504 with 2 Axes>"
      ]
     },
     "metadata": {
      "needs_background": "light"
     },
     "output_type": "display_data"
    }
   ],
   "source": [
    "from sklearn.metrics import confusion_matrix\n",
    "\n",
    "cma = confusion_matrix(y_train, y_predicted_train)\n",
    "print('Confusion matrix:\\n', cma)\n",
    "df_cm = pd.DataFrame(cma, range(2), columns=range(2))\n",
    "plt.figure(figsize = (10,7))\n",
    "sns.heatmap(df_cm, annot=True,annot_kws={\"size\": 16}, fmt='g')"
   ]
  },
  {
   "cell_type": "markdown",
   "metadata": {
    "colab_type": "text",
    "id": "i1HwnTvN8Dnp"
   },
   "source": [
    "<h4> Test Confusion Matrix </h4>"
   ]
  },
  {
   "cell_type": "code",
   "execution_count": 40,
   "metadata": {
    "colab": {},
    "colab_type": "code",
    "id": "N2FElaH78Dnp",
    "outputId": "dfaa7c76-3890-43ba-a2df-c96b50a92fc7"
   },
   "outputs": [
    {
     "name": "stdout",
     "output_type": "stream",
     "text": [
      "Confusion matrix:\n",
      " [[84791    84]\n",
      " [ 7323    55]]\n"
     ]
    },
    {
     "data": {
      "text/plain": [
       "<matplotlib.axes._subplots.AxesSubplot at 0x203ef5ea288>"
      ]
     },
     "execution_count": 40,
     "metadata": {},
     "output_type": "execute_result"
    },
    {
     "data": {
      "image/png": "[encoded data removed]",
      "text/plain": [
       "<Figure size 720x504 with 2 Axes>"
      ]
     },
     "metadata": {
      "needs_background": "light"
     },
     "output_type": "display_data"
    }
   ],
   "source": [
    "from sklearn.metrics import confusion_matrix\n",
    "\n",
    "cma = confusion_matrix(y_val, y_predicted_val)\n",
    "print('Confusion matrix:\\n', cma)\n",
    "df_cm = pd.DataFrame(cma, range(2), columns=range(2))\n",
    "plt.figure(figsize = (10,7))\n",
    "sns.heatmap(df_cm, annot=True,annot_kws={\"size\": 16}, fmt='g')"
   ]
  },
  {
   "cell_type": "code",
   "execution_count": null,
   "metadata": {},
   "outputs": [],
   "source": [
    "\n",
    "from sklearn.metrics import confusion_matrix\n",
    "\n",
    "cma = confusion_matrix(y_train, y_predicted_train)\n",
    "print('Confusion matrix:\\n', cma)\n",
    "df_cm = pd.DataFrame(cma, range(2), columns=range(2))\n",
    "plt.figure(figsize = (10,7))\n",
    "sns.heatmap(df_cm, annot=True,annot_kws={\"size\": 16}, fmt='g')\n",
    "\n",
    "<h4> Test Confusion Matrix </h4>\n",
    "\n",
    "from sklearn.metrics import confusion_matrix\n",
    "\n",
    "cma = confusion_matrix(y_val, y_predicted_val)\n",
    "print('Confusion matrix:\\n', cma)\n",
    "df_cm = pd.DataFrame(cma, range(2), columns=range(2))\n",
    "plt.figure(figsize = (10,7))\n",
    "sns.heatmap(df_cm, annot=True,annot_kws={\"size\": 16}, fmt='g')"
   ]
  },
  {
   "cell_type": "markdown",
   "metadata": {},
   "source": [
    "## Catboost Classfier with all the feature"
   ]
  },
  {
   "cell_type": "code",
   "execution_count": 15,
   "metadata": {},
   "outputs": [
    {
     "name": "stdout",
     "output_type": "stream",
     "text": [
      "0:\tlearn: 0.5906697\ttotal: 119ms\tremaining: 1m 23s\n",
      "75:\tlearn: 0.2439282\ttotal: 8.78s\tremaining: 1m 12s\n",
      "150:\tlearn: 0.2385384\ttotal: 17s\tremaining: 1m 1s\n",
      "225:\tlearn: 0.2346067\ttotal: 25.1s\tremaining: 52.7s\n",
      "300:\tlearn: 0.2312247\ttotal: 33.6s\tremaining: 44.6s\n",
      "375:\tlearn: 0.2281222\ttotal: 41.9s\tremaining: 36.1s\n",
      "450:\tlearn: 0.2251677\ttotal: 50.6s\tremaining: 28s\n",
      "525:\tlearn: 0.2225067\ttotal: 1m\tremaining: 20.1s\n",
      "600:\tlearn: 0.2199508\ttotal: 1m 10s\tremaining: 11.7s\n",
      "675:\tlearn: 0.2173596\ttotal: 1m 21s\tremaining: 2.88s\n",
      "699:\tlearn: 0.2165895\ttotal: 1m 25s\tremaining: 0us\n",
      "Best parameters:  {'learning_rate': 0.1, 'l2_leaf_reg': 7, 'depth': 6}\n",
      "Best score: 0.06800614320189032\n"
     ]
    }
   ],
   "source": [
    "from catboost import CatBoostClassifier\n",
    "from sklearn.model_selection import RandomizedSearchCV\n",
    "params={ 'learning_rate': [0.03, 0.1],\n",
    "        'depth': [4, 6, 10],\n",
    "        'l2_leaf_reg': [1, 3, 5, 7, 9]\n",
    "       }\n",
    "\n",
    "model= CatBoostClassifier(iterations=700,\n",
    "                             custom_metric='AUC:hints=skip_train~false',\n",
    "                             loss_function='Logloss',\n",
    "                             random_seed = 23,\n",
    "                             bagging_temperature = 0.2,\n",
    "                             od_type='Iter',\n",
    "                             metric_period = 75,\n",
    "                             od_wait=100,verbose=None)\n",
    "\n",
    "clf = RandomizedSearchCV(model, param_distributions=params, cv=5, scoring='f1', random_state=42, n_jobs=-1, return_train_score=True)\n",
    "clf.fit(x_train, y_train)\n",
    "print('Best parameters:  {}'.format(clf.best_params_))\n",
    "print('Best score: {}'.format(clf.best_score_))"
   ]
  },
  {
   "cell_type": "code",
   "execution_count": 16,
   "metadata": {
    "scrolled": false
   },
   "outputs": [
    {
     "name": "stdout",
     "output_type": "stream",
     "text": [
      "0:\tlearn: 0.5943537\ttotal: 129ms\tremaining: 2m 8s\n",
      "100:\tlearn: 0.2419512\ttotal: 14.5s\tremaining: 2m 9s\n",
      "200:\tlearn: 0.2356484\ttotal: 27s\tremaining: 1m 47s\n",
      "300:\tlearn: 0.2309292\ttotal: 38.1s\tremaining: 1m 28s\n",
      "400:\tlearn: 0.2265350\ttotal: 49.1s\tremaining: 1m 13s\n",
      "500:\tlearn: 0.2224679\ttotal: 1m\tremaining: 59.9s\n",
      "600:\tlearn: 0.2187832\ttotal: 1m 10s\tremaining: 47.1s\n",
      "700:\tlearn: 0.2153011\ttotal: 1m 21s\tremaining: 34.8s\n",
      "800:\tlearn: 0.2119182\ttotal: 1m 32s\tremaining: 22.9s\n",
      "900:\tlearn: 0.2087374\ttotal: 1m 43s\tremaining: 11.3s\n",
      "999:\tlearn: 0.2057726\ttotal: 1m 53s\tremaining: 0us\n",
      "**************************************************\n",
      "Train AUC: 0.856\n",
      "val AUC: 0.771\n",
      "**************************************************\n",
      "Train F1 score: 0.211\n",
      "val F1 score: 0.078\n"
     ]
    },
    {
     "data": {
      "image/png": "[encoded data removed]",
      "text/plain": [
       "<Figure size 432x288 with 1 Axes>"
      ]
     },
     "metadata": {
      "needs_background": "light"
     },
     "output_type": "display_data"
    }
   ],
   "source": [
    "from sklearn.metrics import f1_score\n",
    "from sklearn.metrics import roc_curve\n",
    "from sklearn.metrics import accuracy_score\n",
    "model = CatBoostClassifier(max_depth=6, learning_rate=0.1,metric_period=100)\n",
    "model.fit(x_train, y_train)\n",
    "y_probs_train = model.predict_proba(x_train)\n",
    "y_probs_val = model.predict_proba(x_val)\n",
    "y_predicted_train = model.predict(x_train)\n",
    "y_predicted_val = model.predict(x_val)\n",
    "\n",
    "# keep probabilities for the positive outcome only\n",
    "y_probs_train = y_probs_train[:, 1]\n",
    "y_probs_val = y_probs_val[:, 1]\n",
    "\n",
    "# calculate AUC and Accuracy\n",
    "train_auc = roc_auc_score(y_train, y_probs_train)\n",
    "val_auc = roc_auc_score(y_val, y_probs_val)\n",
    "train_f1 = f1_score(y_train, y_predicted_train)\n",
    "val_f1 = f1_score(y_val, y_predicted_val)\n",
    "print('*'*50)\n",
    "print('Train AUC: %.3f' % train_auc)\n",
    "print('val AUC: %.3f' % val_auc)\n",
    "print('*'*50)\n",
    "print('Train F1 score: %.3f' % train_f1)\n",
    "print('val F1 score: %.3f' % val_f1)\n",
    "\n",
    "score['XGBoost'] = [val_auc, val_f1]\n",
    "\n",
    "# calculate roc curve\n",
    "train_fpr, train_tpr, train_thresholds = roc_curve(y_train, y_probs_train)\n",
    "val_fpr, val_tpr, val_thresholds = roc_curve(y_val, y_probs_val)\n",
    "plt.plot([0, 1], [0, 1], linestyle='--')\n",
    "# plot the roc curve for the model\n",
    "plt.plot(train_fpr, train_tpr, marker='.', label='Train AUC')\n",
    "plt.plot(val_fpr, val_tpr, marker='.', label='val AUC')\n",
    "plt.legend()\n",
    "plt.xlabel(\"False Positive Rate\")\n",
    "plt.ylabel(\"True Positive Rate\")\n",
    "plt.title(\"ROC Curve\")\n",
    "plt.show()"
   ]
  },
  {
   "cell_type": "markdown",
   "metadata": {},
   "source": [
    "## LightGBM with selected features:"
   ]
  },
  {
   "cell_type": "code",
   "execution_count": 65,
   "metadata": {},
   "outputs": [
    {
     "name": "stdout",
     "output_type": "stream",
     "text": [
      "LGBMClassifier(boosting_type='gbdt', class_weight='balanced',\n",
      "               colsample_bytree=0.8, importance_type='split', learning_rate=1,\n",
      "               max_bin=512, max_depth=5, min_child_samples=10,\n",
      "               min_child_weight=1, min_split_gain=0.5, n_estimators=150,\n",
      "               n_jobs=-1, num_class=1, num_leaves=31, objective='binary',\n",
      "               random_state=None, reg_alpha=20, reg_lambda=20,\n",
      "               scale_pos_weight=1, silent=True, subsample=0.7,\n",
      "               subsample_for_bin=200, subsample_freq=1)\n",
      "0.7685398487551085\n"
     ]
    }
   ],
   "source": [
    "#https://lightgbm.readthedocs.io/en/latest/pythonapi/lightgbm.LGBMClassifier.html\n",
    "from sklearn.model_selection import RandomizedSearchCV\n",
    "\n",
    "params =  {\n",
    "    'max_depth': [3,5,7],\n",
    "    'n_estimators': [75, 100, 150],\n",
    "    'boosting_type':['gbdt','dart','goss'],\n",
    "    'learning_rate':[0.001,0.05,0.1,1],\n",
    "    'colsample_bytree': [0.7,0.8,1]\n",
    "}\n",
    "\n",
    "model = LGBMClassifier(num_leaves=31,n_estimators=100,objective='binary',\n",
    "                       class_weight='balanced',n_jobs=-1,max_bin= 512,\n",
    "                          subsample_for_bin= 200,\n",
    "                          subsample= 0.7,\n",
    "                          subsample_freq= 1,\n",
    "                          reg_alpha= 20,\n",
    "                          reg_lambda=20,\n",
    "                          min_split_gain= 0.5,\n",
    "                          min_child_weight= 1,\n",
    "                          min_child_samples= 10,\n",
    "                          scale_pos_weight= 1,\n",
    "                          num_class = 1)\n",
    "clf = RandomizedSearchCV(model, param_distributions=params, scoring='accuracy', return_train_score=True, n_jobs=-1, cv=5)\n",
    "clf.fit(x_new, y_train)\n",
    "print(clf.best_estimator_)\n",
    "print(clf.best_score_)"
   ]
  },
  {
   "cell_type": "code",
   "execution_count": 63,
   "metadata": {
    "scrolled": false
   },
   "outputs": [
    {
     "name": "stdout",
     "output_type": "stream",
     "text": [
      "**************************************************\n",
      "Train AUC: 0.8206\n",
      "val AUC:  0.7865\n",
      "**************************************************\n",
      "Train F1 score: 0.190\n",
      "val F1 score: 0.104\n"
     ]
    },
    {
     "data": {
      "image/png": "[encoded data removed]",
      "text/plain": [
       "<Figure size 432x288 with 1 Axes>"
      ]
     },
     "metadata": {
      "needs_background": "light"
     },
     "output_type": "display_data"
    }
   ],
   "source": [
    "from sklearn.metrics import f1_score\n",
    "from sklearn.metrics import roc_curve\n",
    "from sklearn.metrics import accuracy_score\n",
    "model = LGBMClassifier(boosting_type='dart', learning_rate=1,colsample_bytree=0.8,max_depth=5,n_estimators=75)\n",
    "model.fit(x_new, y_train)\n",
    "y_probs_train = model.predict_proba(x_new)\n",
    "y_probs_val = model.predict_proba(x_val_new)\n",
    "y_predicted_train = model.predict(x_new)\n",
    "y_predicted_val = model.predict(x_val_new)\n",
    "\n",
    "# keep probabilities for the positive outcome only\n",
    "y_probs_train = y_probs_train[:, 1]\n",
    "y_probs_val = y_probs_val[:, 1]\n",
    "\n",
    "# calculate AUC and Accuracy\n",
    "train_auc = roc_auc_score(y_train, y_probs_train)\n",
    "val_auc = roc_auc_score(y_val, y_probs_val)\n",
    "train_f1 = f1_score(y_train, y_predicted_train)\n",
    "val_f1 = f1_score(y_val, y_predicted_val)\n",
    "print('*'*50)\n",
    "print('Train AUC: %.3f' % train_auc)\n",
    "print('val AUC: %.3f' % val_auc)\n",
    "print('*'*50)\n",
    "print('Train F1 score: %.3f' % train_f1)\n",
    "print('val F1 score: %.3f' % val_f1)\n",
    "\n",
    "\n",
    "# calculate roc curve\n",
    "train_fpr, train_tpr, train_thresholds = roc_curve(y_train, y_probs_train)\n",
    "val_fpr, val_tpr, val_thresholds = roc_curve(y_val, y_probs_val)\n",
    "plt.plot([0, 1], [0, 1], linestyle='--')\n",
    "# plot the roc curve for the model\n",
    "plt.plot(train_fpr, train_tpr, marker='.', label='Train AUC')\n",
    "plt.plot(val_fpr, val_tpr, marker='.', label='val AUC')\n",
    "plt.legend()\n",
    "plt.xlabel(\"False Positive Rate\")\n",
    "plt.ylabel(\"True Positive Rate\")\n",
    "plt.title(\"ROC Curve\")\n",
    "plt.show()"
   ]
  },
  {
   "cell_type": "code",
   "execution_count": 47,
   "metadata": {},
   "outputs": [
    {
     "name": "stdout",
     "output_type": "stream",
     "text": [
      "Confusion matrix:\n",
      " [[142604  55267]\n",
      " [  5377  12006]]\n"
     ]
    },
    {
     "data": {
      "text/plain": [
       "<matplotlib.axes._subplots.AxesSubplot at 0x1c4263937c8>"
      ]
     },
     "execution_count": 47,
     "metadata": {},
     "output_type": "execute_result"
    },
    {
     "data": {
      "image/png": "[encoded data removed]",
      "text/plain": [
       "<Figure size 720x504 with 2 Axes>"
      ]
     },
     "metadata": {
      "needs_background": "light"
     },
     "output_type": "display_data"
    }
   ],
   "source": [
    "from sklearn.metrics import confusion_matrix\n",
    "\n",
    "cma = confusion_matrix(y_train, y_pred_prob)\n",
    "print('Confusion matrix:\\n', cma)\n",
    "df_cm = pd.DataFrame(cma, range(2), columns=range(2))\n",
    "plt.figure(figsize = (10,7))\n",
    "sns.heatmap(df_cm, annot=True,annot_kws={\"size\": 16}, fmt='g')"
   ]
  },
  {
   "cell_type": "code",
   "execution_count": 51,
   "metadata": {
    "scrolled": false
   },
   "outputs": [
    {
     "name": "stdout",
     "output_type": "stream",
     "text": [
      "Confusion matrix:\n",
      " [[60816 23995]\n",
      " [ 2589  4853]]\n"
     ]
    },
    {
     "data": {
      "text/plain": [
       "<matplotlib.axes._subplots.AxesSubplot at 0x1c42686ea08>"
      ]
     },
     "execution_count": 51,
     "metadata": {},
     "output_type": "execute_result"
    },
    {
     "data": {
      "image/png": "[encoded data removed]",
      "text/plain": [
       "<Figure size 720x504 with 2 Axes>"
      ]
     },
     "metadata": {
      "needs_background": "light"
     },
     "output_type": "display_data"
    }
   ],
   "source": [
    "from sklearn.metrics import confusion_matrix\n",
    "\n",
    "cma = confusion_matrix(y_val, y_pred_prob1)\n",
    "print('Confusion matrix:\\n', cma)\n",
    "df_cm = pd.DataFrame(cma, range(2), columns=range(2))\n",
    "plt.figure(figsize = (10,7))\n",
    "sns.heatmap(df_cm, annot=True,annot_kws={\"size\": 16}, fmt='g')"
   ]
  },
  {
   "cell_type": "markdown",
   "metadata": {},
   "source": [
    "## LGBM CLASSFIER with all the feature"
   ]
  },
  {
   "cell_type": "code",
   "execution_count": 58,
   "metadata": {},
   "outputs": [
    {
     "name": "stdout",
     "output_type": "stream",
     "text": [
      "LGBMClassifier(boosting_type='gbdt', class_weight='balanced',\n",
      "               colsample_bytree=0.7, importance_type='split', learning_rate=1,\n",
      "               max_bin=512, max_depth=5, min_child_samples=10,\n",
      "               min_child_weight=1, min_split_gain=0.5, n_estimators=150,\n",
      "               n_jobs=-1, num_class=1, num_leaves=31, objective='binary',\n",
      "               random_state=None, reg_alpha=20, reg_lambda=20,\n",
      "               scale_pos_weight=1, silent=True, subsample=0.7,\n",
      "               subsample_for_bin=200, subsample_freq=1)\n",
      "0.7810398487481192\n"
     ]
    }
   ],
   "source": [
    "#https://lightgbm.readthedocs.io/en/latest/pythonapi/lightgbm.LGBMClassifier.html\n",
    "from sklearn.model_selection import RandomizedSearchCV\n",
    "params =  {\n",
    "    'max_depth': [3,5,7],\n",
    "    'n_estimators': [75, 100, 150],\n",
    "    'boosting_type':['gbdt','dart','goss'],\n",
    "    'learning_rate':[0.001,0.05,0.1,1],\n",
    "    'colsample_bytree': [0.7,0.8,1]\n",
    "}\n",
    "\n",
    "model = LGBMClassifier(num_leaves=31,n_estimators=100,objective='binary',\n",
    "                       class_weight='balanced',n_jobs=-1,max_bin= 512,\n",
    "                          subsample_for_bin= 200,\n",
    "                          subsample= 0.7,\n",
    "                          subsample_freq= 1,\n",
    "                          reg_alpha= 20,\n",
    "                          reg_lambda=20,\n",
    "                          min_split_gain= 0.5,\n",
    "                          min_child_weight= 1,\n",
    "                          min_child_samples= 10,\n",
    "                          scale_pos_weight= 1,\n",
    "                          num_class = 1)\n",
    "clf = RandomizedSearchCV(model, param_distributions=params, scoring='accuracy', return_train_score=True, n_jobs=-1, cv=5)\n",
    "clf.fit(x_train, y_train)\n",
    "print(clf.best_estimator_)\n",
    "print(clf.best_score_)"
   ]
  },
  {
   "cell_type": "code",
   "execution_count": 61,
   "metadata": {},
   "outputs": [
    {
     "name": "stdout",
     "output_type": "stream",
     "text": [
      "**************************************************\n",
      "Train AUC: 0.8214\n",
      "val AUC: 0.8002\n",
      "**************************************************\n",
      "Train F1 score: 0.076\n",
      "val F1 score: 0.055\n"
     ]
    },
    {
     "data": {
      "image/png": "[encoded data removed]",
      "text/plain": [
       "<Figure size 432x288 with 1 Axes>"
      ]
     },
     "metadata": {
      "needs_background": "light"
     },
     "output_type": "display_data"
    }
   ],
   "source": [
    "from sklearn.metrics import f1_score\n",
    "from sklearn.metrics import roc_curve\n",
    "from sklearn.metrics import accuracy_score\n",
    "model = LGBMClassifier(boosting_type='gbdt', learning_rate=0.1,colsample_bytree=0.8,max_depth=7,n_estimators=100)\n",
    "model.fit(x_train, y_train)\n",
    "y_probs_train = model.predict_proba(x_train)\n",
    "y_probs_val = model.predict_proba(x_val)\n",
    "y_predicted_train = model.predict(x_train)\n",
    "y_predicted_val = model.predict(x_val)\n",
    "\n",
    "# keep probabilities for the positive outcome only\n",
    "y_probs_train = y_probs_train[:, 1]\n",
    "y_probs_val = y_probs_val[:, 1]\n",
    "\n",
    "# calculate AUC and Accuracy\n",
    "train_auc = roc_auc_score(y_train, y_probs_train)\n",
    "val_auc = roc_auc_score(y_val, y_probs_val)\n",
    "train_f1 = f1_score(y_train, y_predicted_train)\n",
    "val_f1 = f1_score(y_val, y_predicted_val)\n",
    "print('*'*50)\n",
    "print('Train AUC: %.3f' % train_auc)\n",
    "print('val AUC: %.3f' % val_auc)\n",
    "print('*'*50)\n",
    "print('Train F1 score: %.3f' % train_f1)\n",
    "print('val F1 score: %.3f' % val_f1)\n",
    "\n",
    "\n",
    "# calculate roc curve\n",
    "train_fpr, train_tpr, train_thresholds = roc_curve(y_train, y_probs_train)\n",
    "val_fpr, val_tpr, val_thresholds = roc_curve(y_val, y_probs_val)\n",
    "plt.plot([0, 1], [0, 1], linestyle='--')\n",
    "# plot the roc curve for the model\n",
    "plt.plot(train_fpr, train_tpr, marker='.', label='Train AUC')\n",
    "plt.plot(val_fpr, val_tpr, marker='.', label='VAL AUC')\n",
    "plt.legend()\n",
    "plt.xlabel(\"False Positive Rate\")\n",
    "plt.ylabel(\"True Positive Rate\")\n",
    "plt.title(\"ROC Curve\")\n",
    "plt.show()"
   ]
  },
  {
   "cell_type": "code",
   "execution_count": 67,
   "metadata": {},
   "outputs": [],
   "source": [
    "#Storing the best model into pickle file\n",
    "import joblib\n",
    "joblib.dump(model, 'lgbm.pkl')  # test model with custom functions \n",
    "lgbm_pickle = joblib.load('lgbm.pkl') "
   ]
  },
  {
   "cell_type": "code",
   "execution_count": 68,
   "metadata": {
    "colab": {},
    "colab_type": "code",
    "id": "Dd9EcV1j6XnH"
   },
   "outputs": [],
   "source": [
    "#Predicting our model with test csv data\n",
    "preds = lgbm.predict(x_test_final)\n",
    "sub_lgb = pd.DataFrame()\n",
    "sub_lgb['SK_ID_CURR'] = test_id\n",
    "sub_lgb['TARGET'] = preds\n",
    "sub_lgb.to_csv(\"lgbm_all_feature.csv\", index=False)"
   ]
  },
  {
   "cell_type": "code",
   "execution_count": 69,
   "metadata": {
    "colab": {},
    "colab_type": "code",
    "id": "yhP_ha436XnK",
    "scrolled": true
   },
   "outputs": [
    {
     "name": "stdout",
     "output_type": "stream",
     "text": [
      "+-----------------------------------------+-----------+---------+\n",
      "|                  Model                  | Train-AUC | VAL-AUC |\n",
      "+-----------------------------------------+-----------+---------+\n",
      "|           LOGISTIC REGRESSION           |   0.618   |   0.62  |\n",
      "|   LOGISTIC REGRESSION WITH ALL FEATURE  |   0.634   |  0.636  |\n",
      "|          SUPPORT VECTOR MACHINE         |   0.531   |  0.527  |\n",
      "| SUPPORT VECTOR MACHINE WITH ALL FEATURE |   0.577   |   0.58  |\n",
      "|              RANDOM FOREST              |   0.821   |  0.741  |\n",
      "|      RANDOM FOREST WITH ALL FEATURE     |   0.832   |  0.742  |\n",
      "|            XGBOOST CLASSIFIER           |   0.825   |  0.753  |\n",
      "|   XGBOOST CLASSIFIER WITH ALL FEATURE   |   0.846   |  0.767  |\n",
      "|           STACKING CLASSIFIER           |   0.761   |  0.742  |\n",
      "|   STACKING CLASSIFIER WITH ALL FEATURE  |   0.783   |  0.757  |\n",
      "|            VOTING CLASSIFIER            |    0.74   |  0.725  |\n",
      "|    VOTING CLASSIFIER WITH ALL FEATURE   |   0.759   |  0.736  |\n",
      "|            CATBOOST CLASSFIER           |   0.838   |  0.751  |\n",
      "|   CATBOOST CLASSFIER WITH ALL FEATURE   |   0.856   |  0.771  |\n",
      "|                 LIGHTGBM                |   0.8206  |  0.7865 |\n",
      "|        LIGHTGBM WITH ALL FEATURE        |   0.8214  |  0.8002 |\n",
      "+-----------------------------------------+-----------+---------+\n"
     ]
    }
   ],
   "source": [
    "# compararing all models using Prettytable library\n",
    "from prettytable import PrettyTable\n",
    "x = PrettyTable()\n",
    "x.field_names = [\"Model\", \"Train-AUC\",\"VAL-AUC\"]\n",
    "x.add_row([\"LOGISTIC REGRESSION\",0.618, 0.620 ])\n",
    "x.add_row([\"LOGISTIC REGRESSION WITH ALL FEATURE\",0.634, 0.636 ])\n",
    "x.add_row([\"SUPPORT VECTOR MACHINE\",0.531, 0.527])\n",
    "x.add_row([\"SUPPORT VECTOR MACHINE WITH ALL FEATURE\",0.577, 0.580])\n",
    "x.add_row([\"RANDOM FOREST\", 0.821,0.741])\n",
    "x.add_row([\"RANDOM FOREST WITH ALL FEATURE\", 0.832, 0.742])\n",
    "x.add_row([\"XGBOOST CLASSIFIER\",0.825, 0.753])\n",
    "x.add_row([\"XGBOOST CLASSIFIER WITH ALL FEATURE\",0.846, 0.767])\n",
    "x.add_row([\"STACKING CLASSIFIER\",0.761, 0.742])\n",
    "x.add_row([\"STACKING CLASSIFIER WITH ALL FEATURE\",0.783, 0.757])\n",
    "x.add_row([\"VOTING CLASSIFIER\",0.740, 0.725])\n",
    "x.add_row([\"VOTING CLASSIFIER WITH ALL FEATURE\",0.759, 0.736])\n",
    "x.add_row([\"CATBOOST CLASSFIER\",0.838, 0.751])\n",
    "x.add_row([\"CATBOOST CLASSFIER WITH ALL FEATURE\",0.856, 0.771])\n",
    "x.add_row([\"LIGHTGBM\", 0.8206, 0.7865])\n",
    "x.add_row([\"LIGHTGBM WITH ALL FEATURE\", 0.8214, 0.8002])\n",
    "\n",
    "print(x)"
   ]
  },
  {
   "cell_type": "markdown",
   "metadata": {},
   "source": [
    "## Observation"
   ]
  },
  {
   "cell_type": "markdown",
   "metadata": {},
   "source": [
    "- So here we can see that light GBM classifier performed better then rest of the model as Light GBM is a fast, distributed, high-performance gradient boosting framework based on decision tree algorithm.\n",
    "\n",
    "### Steps\n",
    "- 1) First we have to remove the feature which is having more than 25% of null value in train and test dataset. then we have to allign it through its column will be equal.\n",
    "\n",
    "- 2)Then we have to do feature engineering of all the csv file and merge it into main data file.\n",
    "\n",
    "- 3)AFter feature engineering and merging I removed all the null values and fill the remaining null values with most frequent.\n",
    "\n",
    "- 4)Then I did Label Encoding for column less than 3 distinct values and for rest one hot encoding.\n",
    "\n",
    "- 5)After that I split my model into train and validation and applied various ML algorithm to find the Accuracy and AUC-ROC metric.\n",
    "\n",
    "- 6) Here wehave used random search cv for finding the best parameter and then tune that hyperparameter. In some case the value that we have obtained from randomised search CV give less accracy when I have used my own vales there.\n"
   ]
  },
  {
   "cell_type": "code",
   "execution_count": null,
   "metadata": {},
   "outputs": [],
   "source": []
  }
 ],
 "metadata": {
  "colab": {
   "collapsed_sections": [],
   "name": "Home_credit.ipynb",
   "provenance": []
  },
  "kernelspec": {
   "display_name": "Python 3",
   "language": "python",
   "name": "python3"
  },
  "language_info": {
   "codemirror_mode": {
    "name": "ipython",
    "version": 3
   },
   "file_extension": ".py",
   "mimetype": "text/x-python",
   "name": "python",
   "nbconvert_exporter": "python",
   "pygments_lexer": "ipython3",
   "version": "3.7.6"
  }
 },
 "nbformat": 4,
 "nbformat_minor": 1
}
